{
 "cells": [
  {
   "cell_type": "markdown",
   "metadata": {},
   "source": [
    "### Загрузка и обзор данных"
   ]
  },
  {
   "cell_type": "code",
   "execution_count": 1,
   "metadata": {},
   "outputs": [],
   "source": [
    "import pandas as pd\n",
    "import datetime as dt\n",
    "import numpy as np\n",
    "import matplotlib.pyplot as plt\n",
    "from pandas.plotting import register_matplotlib_converters\n",
    "import warnings\n",
    "import scipy.stats as stats"
   ]
  },
  {
   "cell_type": "code",
   "execution_count": 2,
   "metadata": {},
   "outputs": [],
   "source": [
    "hypothesis = pd.read_csv('/datasets/hypothesis.csv', sep=',')\n",
    "orders = pd.read_csv('/datasets/orders.csv', sep=',')\n",
    "visitors = pd.read_csv('/datasets/visitors.csv', sep=',')"
   ]
  },
  {
   "cell_type": "code",
   "execution_count": 3,
   "metadata": {},
   "outputs": [
    {
     "data": {
      "text/html": [
       "<div>\n",
       "<style scoped>\n",
       "    .dataframe tbody tr th:only-of-type {\n",
       "        vertical-align: middle;\n",
       "    }\n",
       "\n",
       "    .dataframe tbody tr th {\n",
       "        vertical-align: top;\n",
       "    }\n",
       "\n",
       "    .dataframe thead th {\n",
       "        text-align: right;\n",
       "    }\n",
       "</style>\n",
       "<table border=\"1\" class=\"dataframe\">\n",
       "  <thead>\n",
       "    <tr style=\"text-align: right;\">\n",
       "      <th></th>\n",
       "      <th>Hypothesis</th>\n",
       "      <th>Reach</th>\n",
       "      <th>Impact</th>\n",
       "      <th>Confidence</th>\n",
       "      <th>Efforts</th>\n",
       "    </tr>\n",
       "  </thead>\n",
       "  <tbody>\n",
       "    <tr>\n",
       "      <th>0</th>\n",
       "      <td>Добавить два новых канала привлечения трафика,...</td>\n",
       "      <td>3</td>\n",
       "      <td>10</td>\n",
       "      <td>8</td>\n",
       "      <td>6</td>\n",
       "    </tr>\n",
       "    <tr>\n",
       "      <th>1</th>\n",
       "      <td>Запустить собственную службу доставки, что сок...</td>\n",
       "      <td>2</td>\n",
       "      <td>5</td>\n",
       "      <td>4</td>\n",
       "      <td>10</td>\n",
       "    </tr>\n",
       "    <tr>\n",
       "      <th>2</th>\n",
       "      <td>Добавить блоки рекомендаций товаров на сайт ин...</td>\n",
       "      <td>8</td>\n",
       "      <td>3</td>\n",
       "      <td>7</td>\n",
       "      <td>3</td>\n",
       "    </tr>\n",
       "    <tr>\n",
       "      <th>3</th>\n",
       "      <td>Изменить структура категорий, что увеличит кон...</td>\n",
       "      <td>8</td>\n",
       "      <td>3</td>\n",
       "      <td>3</td>\n",
       "      <td>8</td>\n",
       "    </tr>\n",
       "    <tr>\n",
       "      <th>4</th>\n",
       "      <td>Изменить цвет фона главной страницы, чтобы уве...</td>\n",
       "      <td>3</td>\n",
       "      <td>1</td>\n",
       "      <td>1</td>\n",
       "      <td>1</td>\n",
       "    </tr>\n",
       "  </tbody>\n",
       "</table>\n",
       "</div>"
      ],
      "text/plain": [
       "                                          Hypothesis  Reach  Impact  \\\n",
       "0  Добавить два новых канала привлечения трафика,...      3      10   \n",
       "1  Запустить собственную службу доставки, что сок...      2       5   \n",
       "2  Добавить блоки рекомендаций товаров на сайт ин...      8       3   \n",
       "3  Изменить структура категорий, что увеличит кон...      8       3   \n",
       "4  Изменить цвет фона главной страницы, чтобы уве...      3       1   \n",
       "\n",
       "   Confidence  Efforts  \n",
       "0           8        6  \n",
       "1           4       10  \n",
       "2           7        3  \n",
       "3           3        8  \n",
       "4           1        1  "
      ]
     },
     "execution_count": 3,
     "metadata": {},
     "output_type": "execute_result"
    }
   ],
   "source": [
    "hypothesis.head(5)"
   ]
  },
  {
   "cell_type": "code",
   "execution_count": 4,
   "metadata": {},
   "outputs": [
    {
     "name": "stdout",
     "output_type": "stream",
     "text": [
      "<class 'pandas.core.frame.DataFrame'>\n",
      "RangeIndex: 9 entries, 0 to 8\n",
      "Data columns (total 5 columns):\n",
      " #   Column      Non-Null Count  Dtype \n",
      "---  ------      --------------  ----- \n",
      " 0   Hypothesis  9 non-null      object\n",
      " 1   Reach       9 non-null      int64 \n",
      " 2   Impact      9 non-null      int64 \n",
      " 3   Confidence  9 non-null      int64 \n",
      " 4   Efforts     9 non-null      int64 \n",
      "dtypes: int64(4), object(1)\n",
      "memory usage: 488.0+ bytes\n"
     ]
    }
   ],
   "source": [
    "hypothesis.info()"
   ]
  },
  {
   "cell_type": "code",
   "execution_count": 5,
   "metadata": {},
   "outputs": [
    {
     "data": {
      "text/html": [
       "<div>\n",
       "<style scoped>\n",
       "    .dataframe tbody tr th:only-of-type {\n",
       "        vertical-align: middle;\n",
       "    }\n",
       "\n",
       "    .dataframe tbody tr th {\n",
       "        vertical-align: top;\n",
       "    }\n",
       "\n",
       "    .dataframe thead th {\n",
       "        text-align: right;\n",
       "    }\n",
       "</style>\n",
       "<table border=\"1\" class=\"dataframe\">\n",
       "  <thead>\n",
       "    <tr style=\"text-align: right;\">\n",
       "      <th></th>\n",
       "      <th>transactionId</th>\n",
       "      <th>visitorId</th>\n",
       "      <th>date</th>\n",
       "      <th>revenue</th>\n",
       "      <th>group</th>\n",
       "    </tr>\n",
       "  </thead>\n",
       "  <tbody>\n",
       "    <tr>\n",
       "      <th>0</th>\n",
       "      <td>3667963787</td>\n",
       "      <td>3312258926</td>\n",
       "      <td>2019-08-15</td>\n",
       "      <td>1650</td>\n",
       "      <td>B</td>\n",
       "    </tr>\n",
       "    <tr>\n",
       "      <th>1</th>\n",
       "      <td>2804400009</td>\n",
       "      <td>3642806036</td>\n",
       "      <td>2019-08-15</td>\n",
       "      <td>730</td>\n",
       "      <td>B</td>\n",
       "    </tr>\n",
       "    <tr>\n",
       "      <th>2</th>\n",
       "      <td>2961555356</td>\n",
       "      <td>4069496402</td>\n",
       "      <td>2019-08-15</td>\n",
       "      <td>400</td>\n",
       "      <td>A</td>\n",
       "    </tr>\n",
       "    <tr>\n",
       "      <th>3</th>\n",
       "      <td>3797467345</td>\n",
       "      <td>1196621759</td>\n",
       "      <td>2019-08-15</td>\n",
       "      <td>9759</td>\n",
       "      <td>B</td>\n",
       "    </tr>\n",
       "    <tr>\n",
       "      <th>4</th>\n",
       "      <td>2282983706</td>\n",
       "      <td>2322279887</td>\n",
       "      <td>2019-08-15</td>\n",
       "      <td>2308</td>\n",
       "      <td>B</td>\n",
       "    </tr>\n",
       "  </tbody>\n",
       "</table>\n",
       "</div>"
      ],
      "text/plain": [
       "   transactionId   visitorId        date  revenue group\n",
       "0     3667963787  3312258926  2019-08-15     1650     B\n",
       "1     2804400009  3642806036  2019-08-15      730     B\n",
       "2     2961555356  4069496402  2019-08-15      400     A\n",
       "3     3797467345  1196621759  2019-08-15     9759     B\n",
       "4     2282983706  2322279887  2019-08-15     2308     B"
      ]
     },
     "execution_count": 5,
     "metadata": {},
     "output_type": "execute_result"
    }
   ],
   "source": [
    "orders.head(5)"
   ]
  },
  {
   "cell_type": "code",
   "execution_count": 6,
   "metadata": {},
   "outputs": [
    {
     "name": "stdout",
     "output_type": "stream",
     "text": [
      "<class 'pandas.core.frame.DataFrame'>\n",
      "RangeIndex: 1197 entries, 0 to 1196\n",
      "Data columns (total 5 columns):\n",
      " #   Column         Non-Null Count  Dtype \n",
      "---  ------         --------------  ----- \n",
      " 0   transactionId  1197 non-null   int64 \n",
      " 1   visitorId      1197 non-null   int64 \n",
      " 2   date           1197 non-null   object\n",
      " 3   revenue        1197 non-null   int64 \n",
      " 4   group          1197 non-null   object\n",
      "dtypes: int64(3), object(2)\n",
      "memory usage: 46.9+ KB\n"
     ]
    }
   ],
   "source": [
    "orders.info()\n"
   ]
  },
  {
   "cell_type": "code",
   "execution_count": 7,
   "metadata": {},
   "outputs": [
    {
     "data": {
      "text/plain": [
       "array(['B', 'A'], dtype=object)"
      ]
     },
     "execution_count": 7,
     "metadata": {},
     "output_type": "execute_result"
    }
   ],
   "source": [
    "orders['group'].unique()"
   ]
  },
  {
   "cell_type": "code",
   "execution_count": 8,
   "metadata": {},
   "outputs": [
    {
     "data": {
      "text/plain": [
       "0"
      ]
     },
     "execution_count": 8,
     "metadata": {},
     "output_type": "execute_result"
    }
   ],
   "source": [
    "orders.duplicated().sum()"
   ]
  },
  {
   "cell_type": "code",
   "execution_count": 9,
   "metadata": {},
   "outputs": [
    {
     "data": {
      "text/plain": [
       "557"
      ]
     },
     "execution_count": 9,
     "metadata": {},
     "output_type": "execute_result"
    }
   ],
   "source": [
    "gr_a = orders[orders['group']=='A']['visitorId']\n",
    "gr_a.count().sum()"
   ]
  },
  {
   "cell_type": "code",
   "execution_count": 10,
   "metadata": {},
   "outputs": [
    {
     "data": {
      "text/plain": [
       "640"
      ]
     },
     "execution_count": 10,
     "metadata": {},
     "output_type": "execute_result"
    }
   ],
   "source": [
    "gr_b = orders[orders['group']=='B']['visitorId']\n",
    "gr_b.count().sum()"
   ]
  },
  {
   "cell_type": "markdown",
   "metadata": {},
   "source": [
    "количество пользователей в каждой группе - по таблице с заказами отличается на 83."
   ]
  },
  {
   "cell_type": "code",
   "execution_count": 11,
   "metadata": {},
   "outputs": [
    {
     "name": "stdout",
     "output_type": "stream",
     "text": [
      "0\n"
     ]
    }
   ],
   "source": [
    "cnt = 0\n",
    "for i in gr_a:\n",
    "    if i in gr_b:\n",
    "        cnt += 1\n",
    "print(cnt)"
   ]
  },
  {
   "cell_type": "markdown",
   "metadata": {},
   "source": [
    "Никакие пользователи в обе группы по таблице с заказами не попадают."
   ]
  },
  {
   "cell_type": "code",
   "execution_count": 12,
   "metadata": {
    "scrolled": true
   },
   "outputs": [
    {
     "data": {
      "text/html": [
       "<div>\n",
       "<style scoped>\n",
       "    .dataframe tbody tr th:only-of-type {\n",
       "        vertical-align: middle;\n",
       "    }\n",
       "\n",
       "    .dataframe tbody tr th {\n",
       "        vertical-align: top;\n",
       "    }\n",
       "\n",
       "    .dataframe thead th {\n",
       "        text-align: right;\n",
       "    }\n",
       "</style>\n",
       "<table border=\"1\" class=\"dataframe\">\n",
       "  <thead>\n",
       "    <tr style=\"text-align: right;\">\n",
       "      <th></th>\n",
       "      <th>date</th>\n",
       "      <th>group</th>\n",
       "      <th>visitors</th>\n",
       "    </tr>\n",
       "  </thead>\n",
       "  <tbody>\n",
       "    <tr>\n",
       "      <th>0</th>\n",
       "      <td>2019-08-01</td>\n",
       "      <td>A</td>\n",
       "      <td>719</td>\n",
       "    </tr>\n",
       "    <tr>\n",
       "      <th>1</th>\n",
       "      <td>2019-08-02</td>\n",
       "      <td>A</td>\n",
       "      <td>619</td>\n",
       "    </tr>\n",
       "    <tr>\n",
       "      <th>2</th>\n",
       "      <td>2019-08-03</td>\n",
       "      <td>A</td>\n",
       "      <td>507</td>\n",
       "    </tr>\n",
       "    <tr>\n",
       "      <th>3</th>\n",
       "      <td>2019-08-04</td>\n",
       "      <td>A</td>\n",
       "      <td>717</td>\n",
       "    </tr>\n",
       "    <tr>\n",
       "      <th>4</th>\n",
       "      <td>2019-08-05</td>\n",
       "      <td>A</td>\n",
       "      <td>756</td>\n",
       "    </tr>\n",
       "  </tbody>\n",
       "</table>\n",
       "</div>"
      ],
      "text/plain": [
       "         date group  visitors\n",
       "0  2019-08-01     A       719\n",
       "1  2019-08-02     A       619\n",
       "2  2019-08-03     A       507\n",
       "3  2019-08-04     A       717\n",
       "4  2019-08-05     A       756"
      ]
     },
     "execution_count": 12,
     "metadata": {},
     "output_type": "execute_result"
    }
   ],
   "source": [
    "visitors.head()"
   ]
  },
  {
   "cell_type": "code",
   "execution_count": 13,
   "metadata": {},
   "outputs": [
    {
     "name": "stdout",
     "output_type": "stream",
     "text": [
      "<class 'pandas.core.frame.DataFrame'>\n",
      "RangeIndex: 62 entries, 0 to 61\n",
      "Data columns (total 3 columns):\n",
      " #   Column    Non-Null Count  Dtype \n",
      "---  ------    --------------  ----- \n",
      " 0   date      62 non-null     object\n",
      " 1   group     62 non-null     object\n",
      " 2   visitors  62 non-null     int64 \n",
      "dtypes: int64(1), object(2)\n",
      "memory usage: 1.6+ KB\n"
     ]
    }
   ],
   "source": [
    "visitors.info()"
   ]
  },
  {
   "cell_type": "code",
   "execution_count": 14,
   "metadata": {},
   "outputs": [
    {
     "data": {
      "text/plain": [
       "array(['A', 'B'], dtype=object)"
      ]
     },
     "execution_count": 14,
     "metadata": {},
     "output_type": "execute_result"
    }
   ],
   "source": [
    "visitors['group'].unique()"
   ]
  },
  {
   "cell_type": "code",
   "execution_count": 15,
   "metadata": {},
   "outputs": [
    {
     "data": {
      "text/plain": [
       "0"
      ]
     },
     "execution_count": 15,
     "metadata": {},
     "output_type": "execute_result"
    }
   ],
   "source": [
    "visitors.duplicated().sum()"
   ]
  },
  {
   "cell_type": "code",
   "execution_count": 16,
   "metadata": {},
   "outputs": [
    {
     "name": "stdout",
     "output_type": "stream",
     "text": [
      "2019-08-01 2019-08-31\n"
     ]
    }
   ],
   "source": [
    "print(visitors['date'].min(),\n",
    "visitors['date'].max())\n"
   ]
  },
  {
   "cell_type": "markdown",
   "metadata": {},
   "source": [
    "временной интервал, даты начала и окончания теста 2019-08-01 - 2019-08-31"
   ]
  },
  {
   "cell_type": "code",
   "execution_count": 17,
   "metadata": {},
   "outputs": [
    {
     "data": {
      "image/png": "[encoded data removed]",
      "text/plain": [
       "<Figure size 1080x720 with 1 Axes>"
      ]
     },
     "metadata": {
      "needs_background": "light"
     },
     "output_type": "display_data"
    }
   ],
   "source": [
    "x = visitors[visitors['group']=='A']['date']\n",
    "y = visitors[visitors['group']=='A']['visitors']\n",
    "x2 = visitors[visitors['group']=='B']['date']\n",
    "y2 = visitors[visitors['group']=='B']['visitors']\n",
    "\n",
    "plt.figure(figsize=(15,10))\n",
    "plt.title('Динамика посетителей по дням по группам')\n",
    "plt.plot(x, y, x2, y2)\n",
    "plt.xticks(rotation=45)\n",
    "plt.grid()\n",
    "plt.show()"
   ]
  },
  {
   "cell_type": "markdown",
   "metadata": {},
   "source": [
    "Данные коректны. В загруженных таблицах отсутствуют пропуски и дубликаты. Однако необходимо привести столбцы с датой к нужному формату и для удобства привести название столбцов к нижнему регистру. \n",
    "\n",
    "Даты начала и окончания теста 2019-08-01 - 2019-08-31. Никакие пользователи в обе группы по таблице с заказами не попадают. Динамика посетителей по дням по группам показывает резкие скачки пользователей, график идет вниз от понедельника к пятнице и резко растет на выходных днях."
   ]
  },
  {
   "cell_type": "markdown",
   "metadata": {},
   "source": [
    "### Предобработка данных"
   ]
  },
  {
   "cell_type": "code",
   "execution_count": 18,
   "metadata": {},
   "outputs": [],
   "source": [
    "hypothesis.columns = hypothesis.columns.str.lower()\n",
    "orders.columns = ['transaction_id','visitor_id','date','revenue','group']"
   ]
  },
  {
   "cell_type": "code",
   "execution_count": 1,
   "metadata": {},
   "outputs": [
    {
     "ename": "NameError",
     "evalue": "name 'orders' is not defined",
     "output_type": "error",
     "traceback": [
      "\u001b[0;31m---------------------------------------------------------------------------\u001b[0m",
      "\u001b[0;31mNameError\u001b[0m                                 Traceback (most recent call last)",
      "\u001b[0;32m/tmp/ipykernel_168/2283168557.py\u001b[0m in \u001b[0;36m<module>\u001b[0;34m\u001b[0m\n\u001b[0;32m----> 1\u001b[0;31m orders['date'] = orders['date'].map(\n\u001b[0m\u001b[1;32m      2\u001b[0m     lambda x: dt.datetime.strptime(x, '%Y-%m-%d'))\n\u001b[1;32m      3\u001b[0m \u001b[0;34m\u001b[0m\u001b[0m\n\u001b[1;32m      4\u001b[0m visitors['date'] = visitors['date'].map(\n\u001b[1;32m      5\u001b[0m     lambda x: dt.datetime.strptime(x, '%Y-%m-%d'))\n",
      "\u001b[0;31mNameError\u001b[0m: name 'orders' is not defined"
     ]
    }
   ],
   "source": [
    "orders['date'] = orders['date'].map(\n",
    "    lambda x: dt.datetime.strptime(x, '%Y-%m-%d'))\n",
    "\n",
    "visitors['date'] = visitors['date'].map(\n",
    "    lambda x: dt.datetime.strptime(x, '%Y-%m-%d'))"
   ]
  },
  {
   "cell_type": "markdown",
   "metadata": {},
   "source": [
    "Теперь данные готовы для дальнейшего анализа."
   ]
  },
  {
   "cell_type": "markdown",
   "metadata": {},
   "source": [
    "### Приоритезация гипотез"
   ]
  },
  {
   "cell_type": "code",
   "execution_count": 38,
   "metadata": {},
   "outputs": [
    {
     "data": {
      "text/html": [
       "<div>\n",
       "<style scoped>\n",
       "    .dataframe tbody tr th:only-of-type {\n",
       "        vertical-align: middle;\n",
       "    }\n",
       "\n",
       "    .dataframe tbody tr th {\n",
       "        vertical-align: top;\n",
       "    }\n",
       "\n",
       "    .dataframe thead th {\n",
       "        text-align: right;\n",
       "    }\n",
       "</style>\n",
       "<table border=\"1\" class=\"dataframe\">\n",
       "  <thead>\n",
       "    <tr style=\"text-align: right;\">\n",
       "      <th></th>\n",
       "      <th>hypothesis</th>\n",
       "      <th>ICE</th>\n",
       "    </tr>\n",
       "  </thead>\n",
       "  <tbody>\n",
       "    <tr>\n",
       "      <th>8</th>\n",
       "      <td>Запустить акцию, дающую скидку на товар в день рождения</td>\n",
       "      <td>16.20</td>\n",
       "    </tr>\n",
       "    <tr>\n",
       "      <th>0</th>\n",
       "      <td>Добавить два новых канала привлечения трафика, что позволит привлекать на 30% больше пользователей</td>\n",
       "      <td>13.33</td>\n",
       "    </tr>\n",
       "    <tr>\n",
       "      <th>7</th>\n",
       "      <td>Добавить форму подписки на все основные страницы, чтобы собрать базу клиентов для email-рассылок</td>\n",
       "      <td>11.20</td>\n",
       "    </tr>\n",
       "    <tr>\n",
       "      <th>6</th>\n",
       "      <td>Показать на главной странице баннеры с актуальными акциями и распродажами, чтобы увеличить конверсию</td>\n",
       "      <td>8.00</td>\n",
       "    </tr>\n",
       "    <tr>\n",
       "      <th>2</th>\n",
       "      <td>Добавить блоки рекомендаций товаров на сайт интернет магазина, чтобы повысить конверсию и средний чек заказа</td>\n",
       "      <td>7.00</td>\n",
       "    </tr>\n",
       "    <tr>\n",
       "      <th>1</th>\n",
       "      <td>Запустить собственную службу доставки, что сократит срок доставки заказов</td>\n",
       "      <td>2.00</td>\n",
       "    </tr>\n",
       "    <tr>\n",
       "      <th>5</th>\n",
       "      <td>Добавить страницу отзывов клиентов о магазине, что позволит увеличить количество заказов</td>\n",
       "      <td>1.33</td>\n",
       "    </tr>\n",
       "    <tr>\n",
       "      <th>3</th>\n",
       "      <td>Изменить структура категорий, что увеличит конверсию, т.к. пользователи быстрее найдут нужный товар</td>\n",
       "      <td>1.12</td>\n",
       "    </tr>\n",
       "    <tr>\n",
       "      <th>4</th>\n",
       "      <td>Изменить цвет фона главной страницы, чтобы увеличить вовлеченность пользователей</td>\n",
       "      <td>1.00</td>\n",
       "    </tr>\n",
       "  </tbody>\n",
       "</table>\n",
       "</div>"
      ],
      "text/plain": [
       "                                                                                                     hypothesis  \\\n",
       "8                                                       Запустить акцию, дающую скидку на товар в день рождения   \n",
       "0            Добавить два новых канала привлечения трафика, что позволит привлекать на 30% больше пользователей   \n",
       "7              Добавить форму подписки на все основные страницы, чтобы собрать базу клиентов для email-рассылок   \n",
       "6          Показать на главной странице баннеры с актуальными акциями и распродажами, чтобы увеличить конверсию   \n",
       "2  Добавить блоки рекомендаций товаров на сайт интернет магазина, чтобы повысить конверсию и средний чек заказа   \n",
       "1                                     Запустить собственную службу доставки, что сократит срок доставки заказов   \n",
       "5                      Добавить страницу отзывов клиентов о магазине, что позволит увеличить количество заказов   \n",
       "3           Изменить структура категорий, что увеличит конверсию, т.к. пользователи быстрее найдут нужный товар   \n",
       "4                              Изменить цвет фона главной страницы, чтобы увеличить вовлеченность пользователей   \n",
       "\n",
       "     ICE  \n",
       "8  16.20  \n",
       "0  13.33  \n",
       "7  11.20  \n",
       "6   8.00  \n",
       "2   7.00  \n",
       "1   2.00  \n",
       "5   1.33  \n",
       "3   1.12  \n",
       "4   1.00  "
      ]
     },
     "metadata": {},
     "output_type": "display_data"
    }
   ],
   "source": [
    "#фреймворк ICE\n",
    "pd.options.display.max_colwidth = 130\n",
    "\n",
    "hypothesis['ICE'] = (hypothesis['impact'] * hypothesis['confidence']) / hypothesis['efforts']\n",
    "hypothesis_new = pd.DataFrame()\n",
    "hypothesis_new = hypothesis[['hypothesis', 'ICE']]\n",
    "hypothesis_new = hypothesis_new.sort_values(by='ICE',ascending=False)\n",
    "hypothesis_new['ICE'] = round(hypothesis_new['ICE'],2)\n",
    "display(hypothesis_new)\n",
    "\n"
   ]
  },
  {
   "cell_type": "markdown",
   "metadata": {},
   "source": [
    "Приоритезация гипотиз по ICE показывает, что самые востребованные для нас гипотезы с индексами (8, 0, 7). "
   ]
  },
  {
   "cell_type": "code",
   "execution_count": 21,
   "metadata": {
    "scrolled": true
   },
   "outputs": [
    {
     "data": {
      "text/html": [
       "<div>\n",
       "<style scoped>\n",
       "    .dataframe tbody tr th:only-of-type {\n",
       "        vertical-align: middle;\n",
       "    }\n",
       "\n",
       "    .dataframe tbody tr th {\n",
       "        vertical-align: top;\n",
       "    }\n",
       "\n",
       "    .dataframe thead th {\n",
       "        text-align: right;\n",
       "    }\n",
       "</style>\n",
       "<table border=\"1\" class=\"dataframe\">\n",
       "  <thead>\n",
       "    <tr style=\"text-align: right;\">\n",
       "      <th></th>\n",
       "      <th>hypothesis</th>\n",
       "      <th>RICE</th>\n",
       "    </tr>\n",
       "  </thead>\n",
       "  <tbody>\n",
       "    <tr>\n",
       "      <th>7</th>\n",
       "      <td>Добавить форму подписки на все основные страницы, чтобы собрать базу клиентов для email-рассылок</td>\n",
       "      <td>112.0</td>\n",
       "    </tr>\n",
       "    <tr>\n",
       "      <th>2</th>\n",
       "      <td>Добавить блоки рекомендаций товаров на сайт интернет магазина, чтобы повысить конверсию и средний чек заказа</td>\n",
       "      <td>56.0</td>\n",
       "    </tr>\n",
       "    <tr>\n",
       "      <th>0</th>\n",
       "      <td>Добавить два новых канала привлечения трафика, что позволит привлекать на 30% больше пользователей</td>\n",
       "      <td>40.0</td>\n",
       "    </tr>\n",
       "    <tr>\n",
       "      <th>6</th>\n",
       "      <td>Показать на главной странице баннеры с актуальными акциями и распродажами, чтобы увеличить конверсию</td>\n",
       "      <td>40.0</td>\n",
       "    </tr>\n",
       "    <tr>\n",
       "      <th>8</th>\n",
       "      <td>Запустить акцию, дающую скидку на товар в день рождения</td>\n",
       "      <td>16.2</td>\n",
       "    </tr>\n",
       "    <tr>\n",
       "      <th>3</th>\n",
       "      <td>Изменить структура категорий, что увеличит конверсию, т.к. пользователи быстрее найдут нужный товар</td>\n",
       "      <td>9.0</td>\n",
       "    </tr>\n",
       "    <tr>\n",
       "      <th>1</th>\n",
       "      <td>Запустить собственную службу доставки, что сократит срок доставки заказов</td>\n",
       "      <td>4.0</td>\n",
       "    </tr>\n",
       "    <tr>\n",
       "      <th>5</th>\n",
       "      <td>Добавить страницу отзывов клиентов о магазине, что позволит увеличить количество заказов</td>\n",
       "      <td>4.0</td>\n",
       "    </tr>\n",
       "    <tr>\n",
       "      <th>4</th>\n",
       "      <td>Изменить цвет фона главной страницы, чтобы увеличить вовлеченность пользователей</td>\n",
       "      <td>3.0</td>\n",
       "    </tr>\n",
       "  </tbody>\n",
       "</table>\n",
       "</div>"
      ],
      "text/plain": [
       "                                                                                                     hypothesis  \\\n",
       "7              Добавить форму подписки на все основные страницы, чтобы собрать базу клиентов для email-рассылок   \n",
       "2  Добавить блоки рекомендаций товаров на сайт интернет магазина, чтобы повысить конверсию и средний чек заказа   \n",
       "0            Добавить два новых канала привлечения трафика, что позволит привлекать на 30% больше пользователей   \n",
       "6          Показать на главной странице баннеры с актуальными акциями и распродажами, чтобы увеличить конверсию   \n",
       "8                                                       Запустить акцию, дающую скидку на товар в день рождения   \n",
       "3           Изменить структура категорий, что увеличит конверсию, т.к. пользователи быстрее найдут нужный товар   \n",
       "1                                     Запустить собственную службу доставки, что сократит срок доставки заказов   \n",
       "5                      Добавить страницу отзывов клиентов о магазине, что позволит увеличить количество заказов   \n",
       "4                              Изменить цвет фона главной страницы, чтобы увеличить вовлеченность пользователей   \n",
       "\n",
       "    RICE  \n",
       "7  112.0  \n",
       "2   56.0  \n",
       "0   40.0  \n",
       "6   40.0  \n",
       "8   16.2  \n",
       "3    9.0  \n",
       "1    4.0  \n",
       "5    4.0  \n",
       "4    3.0  "
      ]
     },
     "metadata": {},
     "output_type": "display_data"
    }
   ],
   "source": [
    "# фреймворк RICE\n",
    "\n",
    "hypothesis['RICE'] = (hypothesis['reach']*hypothesis['impact'] * hypothesis['confidence']) / hypothesis['efforts']\n",
    "hypothesis_new = pd.DataFrame()\n",
    "hypothesis_new = hypothesis[['hypothesis', 'RICE']]\n",
    "hypothesis_new = hypothesis_new.sort_values(by='RICE',ascending=False)\n",
    "display(hypothesis_new)"
   ]
  },
  {
   "cell_type": "markdown",
   "metadata": {},
   "source": [
    "Приоритезация гипотиз по ICE показывает, что самые востребованные для нас гипотезы с индексами (7, 2, 0).\n",
    "Разлиция в фрейворках происходит в связи с тем, что в RICE мы учитываем параметр с количеством пользователей, которых затронет наши изменения. Учитывая лучшие оценки параметров и количество затронутых пользователей, мы можем установить, что стоит прорабатывать гипотезу с индексом 7, а именно \"Добавить форму подписки на все основные страницы, чтобы собрать базу клиентов для email-рассылок\".\n"
   ]
  },
  {
   "cell_type": "markdown",
   "metadata": {},
   "source": [
    "### Анализ A/B-теста"
   ]
  },
  {
   "cell_type": "markdown",
   "metadata": {},
   "source": [
    "#### График кумулятивной выручки по группам"
   ]
  },
  {
   "cell_type": "code",
   "execution_count": 22,
   "metadata": {},
   "outputs": [
    {
     "data": {
      "image/png": "[encoded data removed]",
      "text/plain": [
       "<Figure size 720x360 with 1 Axes>"
      ]
     },
     "metadata": {
      "needs_background": "light"
     },
     "output_type": "display_data"
    }
   ],
   "source": [
    "datesGroups = orders[['date', 'group']].drop_duplicates()\n",
    "\n",
    "ordersAggregated = datesGroups.apply(\n",
    "    lambda x: orders[\n",
    "        np.logical_and(\n",
    "            orders['date'] <= x['date'], orders['group'] == x['group']\n",
    "        )\n",
    "    ].agg(\n",
    "        {\n",
    "            'date': 'max',\n",
    "            'group': 'max',\n",
    "            'transaction_id': 'nunique',\n",
    "            'visitor_id': 'nunique',\n",
    "            'revenue': 'sum',\n",
    "        }\n",
    "    ),\n",
    "    axis=1,\n",
    ").sort_values(by=['date', 'group'])\n",
    "\n",
    "visitorsAggregated = datesGroups.apply(\n",
    "    lambda x: visitors[\n",
    "        np.logical_and(\n",
    "            visitors['date'] <= x['date'], visitors['group'] == x['group']\n",
    "        )\n",
    "    ].agg({'date': 'max', 'group': 'max', 'visitors': 'sum'}),\n",
    "    axis=1,\n",
    ").sort_values(by=['date', 'group'])\n",
    "\n",
    "cumulativeData = ordersAggregated.merge(\n",
    "    visitorsAggregated, left_on=['date', 'group'], right_on=['date', 'group']\n",
    ")\n",
    "cumulativeData.columns = [\n",
    "    'date',\n",
    "    'group',\n",
    "    'orders',\n",
    "    'buyers',\n",
    "    'revenue',\n",
    "    'visitors',\n",
    "]\n",
    "cumulativeRevenueA = cumulativeData[cumulativeData['group']=='A'][['date','revenue', 'orders']]\n",
    "\n",
    "# датафрейм с кумулятивным количеством заказов и кумулятивной выручкой по дням в группе B\n",
    "cumulativeRevenueB = cumulativeData[cumulativeData['group']=='B'][['date','revenue', 'orders']]\n",
    "\n",
    "plt.figure(figsize=(10,5))\n",
    "\n",
    "# Строим график выручки группы А\n",
    "plt.plot(cumulativeRevenueA['date'], cumulativeRevenueA['revenue'], label='A')\n",
    "\n",
    "# Строим график выручки группы B\n",
    "plt.plot(cumulativeRevenueB['date'], cumulativeRevenueB['revenue'], label='B')\n",
    "\n",
    "plt.title('График кумулятивной выручки по группам')\n",
    "plt.grid()\n",
    "plt.xticks(rotation=45)\n",
    "plt.legend()\n",
    "plt.show()"
   ]
  },
  {
   "cell_type": "markdown",
   "metadata": {},
   "source": [
    "Заметен рост обеих груп на протяжении всего теста. С самого начала группа 'B' имеет более высокие показатели. C 17 августа наблюдается резкий скачок, где сегмент B значительно вырвался вперед и продалжал расти. \n",
    "Можно предположить, что мы не вполне понимаем всю картину. Скорее всего это связано с аномально большим заказом. Необходимо проверить данные на наличие выбросов и аномалий. "
   ]
  },
  {
   "cell_type": "markdown",
   "metadata": {},
   "source": [
    "####  График кумулятивного среднего чека по группам"
   ]
  },
  {
   "cell_type": "code",
   "execution_count": 23,
   "metadata": {
    "scrolled": true
   },
   "outputs": [
    {
     "data": {
      "image/png": "[encoded data removed]",
      "text/plain": [
       "<Figure size 720x360 with 1 Axes>"
      ]
     },
     "metadata": {
      "needs_background": "light"
     },
     "output_type": "display_data"
    }
   ],
   "source": [
    "plt.figure(figsize=(10,5))\n",
    "plt.title('График кумулятивного среднего чека по группам')\n",
    "plt.plot(cumulativeRevenueA['date'], cumulativeRevenueA['revenue']/cumulativeRevenueA['orders'], label='A')\n",
    "plt.plot(cumulativeRevenueB['date'], cumulativeRevenueB['revenue']/cumulativeRevenueB['orders'], label='B')\n",
    "plt.grid()\n",
    "plt.xticks(rotation=45)\n",
    "plt.legend()\n",
    "plt.show()"
   ]
  },
  {
   "cell_type": "markdown",
   "metadata": {},
   "source": [
    "Кумулятивные значения среднего чека имеют большие колебания. Изначально сегмент группы B имел постепенный рост и стабилизировался на отметке в 7000. После произошел резкий скачок до 10000 на отметке около 17 августа 2019.\n",
    "Группа А первую неделю падала, потом с 5 августа начала стабильно расти и стабилизировалась на отметке в 7000 примерно к 13 августа.\n",
    "Принимать решение по этой метрике рано. Необходимо провести дальнейший анализ аномалий, которые искажают результат. Скорее всего они являются причиной скачка в группе Б."
   ]
  },
  {
   "cell_type": "markdown",
   "metadata": {},
   "source": [
    "#### График относительного изменения кумулятивного среднего чека группы B к группе A"
   ]
  },
  {
   "cell_type": "code",
   "execution_count": 24,
   "metadata": {},
   "outputs": [
    {
     "name": "stderr",
     "output_type": "stream",
     "text": [
      "No handles with labels found to put in legend.\n"
     ]
    },
    {
     "data": {
      "image/png": "[encoded data removed]",
      "text/plain": [
       "<Figure size 720x360 with 1 Axes>"
      ]
     },
     "metadata": {
      "needs_background": "light"
     },
     "output_type": "display_data"
    }
   ],
   "source": [
    "mergedCumulativeRevenue = cumulativeRevenueA.merge(cumulativeRevenueB, left_on='date', right_on='date', how='left', suffixes=['A', 'B'])\n",
    "\n",
    "plt.figure(figsize=(10,5))\n",
    "plt.title('Относительное изменение кумулятивного среднего чека группы B к группе А')\n",
    "\n",
    "# cтроим отношение средних чеков\n",
    "plt.plot(mergedCumulativeRevenue['date'], (mergedCumulativeRevenue['revenueB']/mergedCumulativeRevenue['ordersB'])/(mergedCumulativeRevenue['revenueA']/mergedCumulativeRevenue['ordersA'])-1)\n",
    "\n",
    "# добавляем ось X\n",
    "plt.axhline(y=0, color='black', linestyle='--')\n",
    "plt.grid()\n",
    "plt.xticks(rotation=45)\n",
    "plt.legend()\n",
    "plt.show()"
   ]
  },
  {
   "cell_type": "markdown",
   "metadata": {},
   "source": [
    "В некоторые даты значения сильно менялись, видимо тогда и были совершены аномальные заказы. Стоит обратить внимание на числа от 17 до 21 августа."
   ]
  },
  {
   "cell_type": "markdown",
   "metadata": {},
   "source": [
    "#### График кумулятивного среднего количества заказов на посетителя по группам"
   ]
  },
  {
   "cell_type": "code",
   "execution_count": 25,
   "metadata": {},
   "outputs": [
    {
     "data": {
      "image/png": "[encoded data removed]",
      "text/plain": [
       "<Figure size 720x360 with 1 Axes>"
      ]
     },
     "metadata": {
      "needs_background": "light"
     },
     "output_type": "display_data"
    }
   ],
   "source": [
    "cumulativeData['conversion'] = cumulativeData['orders']/cumulativeData['visitors']\n",
    "\n",
    "# отделяем данные по группе A\n",
    "cumulativeDataA = cumulativeData[cumulativeData['group']=='A']\n",
    "\n",
    "# отделяем данные по группе B\n",
    "cumulativeDataB = cumulativeData[cumulativeData['group']=='B']\n",
    "\n",
    "plt.figure(figsize=(10,5))\n",
    "plt.title('График кумулятивного среднего количества заказов на посетителя по группам')\n",
    "\n",
    "# строим графики\n",
    "plt.plot(cumulativeDataA['date'], cumulativeDataA['conversion'], label='A')\n",
    "plt.plot(cumulativeDataB['date'], cumulativeDataB['conversion'], label='B')\n",
    "plt.legend()\n",
    "\n",
    "# задаем масштаб осей\n",
    "plt.axis([dt.datetime(2019, 8, 1), dt.datetime(2019, 9, 1), 0, 0.05])\n",
    "\n",
    "plt.grid()\n",
    "plt.xticks(rotation=45)\n",
    "plt.legend()\n",
    "plt.show()"
   ]
  },
  {
   "cell_type": "markdown",
   "metadata": {},
   "source": [
    "Примерно после 10ти дней от начала теста колебания прекратились и обе группы зафиксировались на своих точках. Сегмент B имеет стабильно большую конверсию хоть и вначале уступал сегменту A."
   ]
  },
  {
   "cell_type": "markdown",
   "metadata": {},
   "source": [
    "#### График относительного изменения кумулятивного среднего количества заказов на посетителя группы B к группе A"
   ]
  },
  {
   "cell_type": "code",
   "execution_count": 26,
   "metadata": {
    "scrolled": true
   },
   "outputs": [
    {
     "data": {
      "image/png": "[encoded data removed]",
      "text/plain": [
       "<Figure size 720x360 with 1 Axes>"
      ]
     },
     "metadata": {
      "needs_background": "light"
     },
     "output_type": "display_data"
    }
   ],
   "source": [
    "mergedCumulativeConversions = cumulativeDataA[['date','conversion']].merge(cumulativeDataB[['date','conversion']], left_on='date', right_on='date', how='left', suffixes=['A', 'B'])\n",
    "\n",
    "plt.figure(figsize=(10,5))\n",
    "plt.title('График относительного изменения кумулятивного среднего количества заказов на посетителя группы B к группе A')\n",
    "\n",
    "plt.plot(mergedCumulativeConversions['date'], mergedCumulativeConversions['conversionB']/mergedCumulativeConversions['conversionA']-1, label=\"Относительный прирост конверсии группы B относительно группы A\")\n",
    "\n",
    "\n",
    "plt.axhline(y=0, color='black', linestyle='--')\n",
    "plt.axhline(y=0.2, color='grey', linestyle='--')\n",
    "\n",
    "\n",
    "plt.grid()\n",
    "plt.xticks(rotation=45)\n",
    "plt.legend()\n",
    "plt.show()\n",
    "\n",
    "\n"
   ]
  },
  {
   "cell_type": "markdown",
   "metadata": {},
   "source": [
    "В первый день конверсия резко пошла вверх, но уже на второй день упала, после чего начала стремительно расти с 5го дня. Конверсия B резко выросла и в дальнейшем, находилась значительно выше, чем у сегмента A. Можно зафиксировать прирост примерно в 15%."
   ]
  },
  {
   "cell_type": "markdown",
   "metadata": {},
   "source": [
    "#### Точечный график количества заказов по пользователям"
   ]
  },
  {
   "cell_type": "code",
   "execution_count": 27,
   "metadata": {},
   "outputs": [
    {
     "name": "stdout",
     "output_type": "stream",
     "text": [
      "      visitor_id  transaction_id\n",
      "1023  4256040402              11\n",
      "591   2458001652              11\n",
      "569   2378935119               9\n",
      "487   2038680547               8\n",
      "44     199603092               5\n",
      "744   3062433592               5\n",
      "55     237748145               5\n",
      "917   3803269165               5\n",
      "299   1230306981               5\n",
      "897   3717692402               5\n"
     ]
    }
   ],
   "source": [
    "ordersByUsers = (\n",
    "    orders.groupby('visitor_id', as_index=False)\n",
    "    .agg({'transaction_id': 'nunique'})\n",
    ")\n",
    "ordersByUsers.columns = ['visitor_id', 'transaction_id']\n",
    "\n",
    "print(ordersByUsers.sort_values(by='transaction_id', ascending=False).head(10))\n"
   ]
  },
  {
   "cell_type": "code",
   "execution_count": 28,
   "metadata": {},
   "outputs": [
    {
     "data": {
      "image/png": "[encoded data removed]",
      "text/plain": [
       "<Figure size 720x360 with 1 Axes>"
      ]
     },
     "metadata": {
      "needs_background": "light"
     },
     "output_type": "display_data"
    }
   ],
   "source": [
    "# серия из чисел от 0 до количества наблюдений в ordersByUsers\n",
    "x_values = pd.Series(range(0,len(ordersByUsers)))\n",
    "\n",
    "plt.figure(figsize=(10,5))\n",
    "plt.title('Точечный график количества заказов по пользователям')\n",
    "\n",
    "plt.scatter(x_values, ordersByUsers['transaction_id'])\n",
    "\n",
    "plt.grid()\n",
    "plt.show()"
   ]
  },
  {
   "cell_type": "markdown",
   "metadata": {},
   "source": [
    "По графику видно, что подавляющее большинство пользователей не делали больше двух заказов. При этом есть исключение по 5 - 11 заказов, которые можно считать аномальными. "
   ]
  },
  {
   "cell_type": "markdown",
   "metadata": {},
   "source": [
    "#### 95-й и 99-й перцентили количества заказов на пользователя"
   ]
  },
  {
   "cell_type": "code",
   "execution_count": 29,
   "metadata": {},
   "outputs": [
    {
     "name": "stdout",
     "output_type": "stream",
     "text": [
      "[1. 2. 4.]\n"
     ]
    }
   ],
   "source": [
    "print(np.percentile(ordersByUsers['transaction_id'], [90, 95, 99]))"
   ]
  },
  {
   "cell_type": "markdown",
   "metadata": {},
   "source": [
    "Не более 5% пользователей совершали больше 2х заказов. Не более 1% пользователей совершали более 4х. В основном пользователи совершают 1-2 заказа, возьмем за крайнее значение аномалий пользователей, кто сделал не более 3х заказов."
   ]
  },
  {
   "cell_type": "markdown",
   "metadata": {},
   "source": [
    "####  Точечный график стоимостей заказов"
   ]
  },
  {
   "cell_type": "code",
   "execution_count": 30,
   "metadata": {},
   "outputs": [
    {
     "data": {
      "image/png": "[encoded data removed]",
      "text/plain": [
       "<Figure size 720x720 with 1 Axes>"
      ]
     },
     "metadata": {
      "needs_background": "light"
     },
     "output_type": "display_data"
    }
   ],
   "source": [
    "x_values = pd.Series(range(0, len(orders['revenue'])))\n",
    "\n",
    "plt.figure(figsize=(10,10))\n",
    "plt.title('Точечный график стоимости заказов')\n",
    "\n",
    "plt.scatter(x_values, orders['revenue'])\n",
    "\n",
    "plt.grid()\n",
    "plt.show()"
   ]
  },
  {
   "cell_type": "markdown",
   "metadata": {},
   "source": [
    "Есть выбросы на отметке 200 тысяч и 1250000. Заказа выше миллиона определенно аномальный. В среднем все чеки примерно в одной ценовой категории."
   ]
  },
  {
   "cell_type": "markdown",
   "metadata": {},
   "source": [
    "#### 95-й и 99-й перцентили стоимости заказов"
   ]
  },
  {
   "cell_type": "code",
   "execution_count": 31,
   "metadata": {},
   "outputs": [
    {
     "name": "stdout",
     "output_type": "stream",
     "text": [
      "[18168.  28000.  58233.2]\n"
     ]
    }
   ],
   "source": [
    "print(np.percentile(orders['revenue'], [90, 95, 99]))"
   ]
  },
  {
   "cell_type": "markdown",
   "metadata": {},
   "source": [
    "Не более 5% чеков на сумму более 28000р и не более 1% с суммой больше 58233. Посколку около 4% чеков все еще в приемлемом диапозоне суммы заказа, возьмем за крайнее значение для аномалий - 58233р."
   ]
  },
  {
   "cell_type": "markdown",
   "metadata": {},
   "source": [
    "Оценив результаты A/B-теста визуально можно сказать, что в данных, есть выбросы.\n",
    "Обозначена граница для их определения.\n",
    "\n",
    "Аномалиями можно считать пользователей, совершивших более трех заказов и чеки с суммой заказа 58233р.\n",
    "\n"
   ]
  },
  {
   "cell_type": "markdown",
   "metadata": {},
   "source": [
    "#### Статистическая значимость различий в среднем количестве заказов на посетителя между группами между группами между группами по «сырым» данным"
   ]
  },
  {
   "cell_type": "markdown",
   "metadata": {},
   "source": [
    "Формулируем гипотезы. Нулевая: Статистически значемых различий в среднем количестве заказов на посетителя между группами по \"сырым\" данным нет. Альтернативная: Статистически значемые различия в среднем количестве заказов на посетителя между группами по \"сырым\" данным есть."
   ]
  },
  {
   "cell_type": "code",
   "execution_count": 32,
   "metadata": {},
   "outputs": [],
   "source": [
    "visitorsADaily = visitors[visitors['group'] == 'A'][['date', 'visitors']]\n",
    "visitorsADaily.columns = ['date', 'visitorsPerDateA']\n",
    "\n",
    "visitorsACummulative = visitorsADaily.apply(\n",
    "    lambda x: visitorsADaily[visitorsADaily['date'] <= x['date']].agg(\n",
    "        {'date': 'max', 'visitorsPerDateA': 'sum'}\n",
    "    ),\n",
    "    axis=1,\n",
    ")\n",
    "visitorsACummulative.columns = ['date', 'visitorsCummulativeA']\n",
    "\n",
    "visitorsBDaily = visitors[visitors['group'] == 'B'][['date', 'visitors']]\n",
    "visitorsBDaily.columns = ['date', 'visitorsPerDateB']\n",
    "\n",
    "visitorsBCummulative = visitorsBDaily.apply(\n",
    "    lambda x: visitorsBDaily[visitorsBDaily['date'] <= x['date']].agg(\n",
    "        {'date': 'max', 'visitorsPerDateB': 'sum'}\n",
    "    ),\n",
    "    axis=1,\n",
    ")\n",
    "visitorsBCummulative.columns = ['date', 'visitorsCummulativeB']\n",
    "\n",
    "ordersADaily = (\n",
    "    orders[orders['group'] == 'A'][['date', 'transaction_id', 'visitor_id', 'revenue']]\n",
    "    .groupby('date', as_index=False)\n",
    "    .agg({'transaction_id': pd.Series.nunique, 'revenue': 'sum'})\n",
    ")\n",
    "ordersADaily.columns = ['date', 'ordersPerDateA', 'revenuePerDateA']\n",
    "\n",
    "ordersACummulative = ordersADaily.apply(\n",
    "    lambda x: ordersADaily[ordersADaily['date'] <= x['date']].agg(\n",
    "        {'date': 'max', 'ordersPerDateA': 'sum', 'revenuePerDateA': 'sum'}\n",
    "    ),\n",
    "    axis=1,\n",
    ").sort_values(by=['date'])\n",
    "ordersACummulative.columns = [\n",
    "    'date',\n",
    "    'ordersCummulativeA',\n",
    "    'revenueCummulativeA',\n",
    "]\n",
    "\n",
    "ordersBDaily = (\n",
    "    orders[orders['group'] == 'B'][['date', 'transaction_id', 'visitor_id', 'revenue']]\n",
    "    .groupby('date', as_index=False)\n",
    "    .agg({'transaction_id': pd.Series.nunique, 'revenue': 'sum'})\n",
    ")\n",
    "ordersBDaily.columns = ['date', 'ordersPerDateB', 'revenuePerDateB']\n",
    "\n",
    "ordersBCummulative = ordersBDaily.apply(\n",
    "    lambda x: ordersBDaily[ordersBDaily['date'] <= x['date']].agg(\n",
    "        {'date': 'max', 'ordersPerDateB': 'sum', 'revenuePerDateB': 'sum'}\n",
    "    ),\n",
    "    axis=1,\n",
    ").sort_values(by=['date'])\n",
    "ordersBCummulative.columns = [\n",
    "    'date',\n",
    "    'ordersCummulativeB',\n",
    "    'revenueCummulativeB',\n",
    "]\n",
    "\n",
    "data = (\n",
    "    ordersADaily.merge(\n",
    "        ordersBDaily, left_on='date', right_on='date', how='left'\n",
    "    )\n",
    "    .merge(ordersACummulative, left_on='date', right_on='date', how='left')\n",
    "    .merge(ordersBCummulative, left_on='date', right_on='date', how='left')\n",
    "    .merge(visitorsADaily, left_on='date', right_on='date', how='left')\n",
    "    .merge(visitorsBDaily, left_on='date', right_on='date', how='left')\n",
    "    .merge(visitorsACummulative, left_on='date', right_on='date', how='left')\n",
    "    .merge(visitorsBCummulative, left_on='date', right_on='date', how='left')\n",
    ")"
   ]
  },
  {
   "cell_type": "code",
   "execution_count": 33,
   "metadata": {},
   "outputs": [
    {
     "name": "stdout",
     "output_type": "stream",
     "text": [
      "p-value = 0.01679\n",
      "Показатель 'B' к 'А'= 0.138\n"
     ]
    }
   ],
   "source": [
    "ordersByUsersA = (\n",
    "    orders[orders['group'] == 'A']\n",
    "    .groupby('visitor_id', as_index=False)\n",
    "    .agg({'transaction_id': pd.Series.nunique})\n",
    ")\n",
    "ordersByUsersA.columns = ['visitor_id', 'orders']\n",
    "\n",
    "ordersByUsersB = (\n",
    "    orders[orders['group'] == 'B']\n",
    "    .groupby('visitor_id', as_index=False)\n",
    "    .agg({'transaction_id': pd.Series.nunique})\n",
    ")\n",
    "ordersByUsersB.columns = ['visitor_id', 'orders']\n",
    "\n",
    "sampleA = pd.concat(\n",
    "    [\n",
    "        ordersByUsersA['orders'],\n",
    "        pd.Series(\n",
    "            0,\n",
    "            index=np.arange(\n",
    "                data['visitorsPerDateA'].sum() - len(ordersByUsersA['orders'])\n",
    "            ),\n",
    "            name='orders',\n",
    "        ),\n",
    "    ],\n",
    "    axis=0,\n",
    ")\n",
    "\n",
    "sampleB = pd.concat(\n",
    "    [\n",
    "        ordersByUsersB['orders'],\n",
    "        pd.Series(\n",
    "            0,\n",
    "            index=np.arange(\n",
    "                data['visitorsPerDateB'].sum() - len(ordersByUsersB['orders'])\n",
    "            ),\n",
    "            name='orders',\n",
    "        ),\n",
    "    ],\n",
    "    axis=0,\n",
    ")\n",
    "\n",
    "print(\"p-value = {0:.5f}\".format(stats.mannwhitneyu(sampleA, sampleB)[1]))\n",
    "print(\"Показатель 'B' к 'А'= {0:.3f}\".format(sampleB.mean() / sampleA.mean() - 1))"
   ]
  },
  {
   "cell_type": "markdown",
   "metadata": {},
   "source": [
    "Значение p-value меньше 0.05, значит нулевую гипотезу, что различий по \"сырым\" данным нет, отвергаем. Следовательно различия между группами есть. Относительное значение разницы конверсий между группами 13,8%."
   ]
  },
  {
   "cell_type": "markdown",
   "metadata": {},
   "source": [
    "#### Статистическая значимость различий в среднем чеке заказа между группами между группами по «сырым» данным"
   ]
  },
  {
   "cell_type": "markdown",
   "metadata": {},
   "source": [
    "формулируем гипотезы. Нулевая: Статистически значемых различий в среднем чеке заказа между группами по \"сырым\" данным нет. Альтернативная: Статистически значемые различия в среднем чеке заказа между группами по \"сырым\" данным есть."
   ]
  },
  {
   "cell_type": "code",
   "execution_count": 34,
   "metadata": {},
   "outputs": [
    {
     "name": "stdout",
     "output_type": "stream",
     "text": [
      "p-value = 0.729\n",
      "Показатель 'B' к 'А'= 0.259\n"
     ]
    }
   ],
   "source": [
    "print(\"p-value = {0:.3f}\".format(\n",
    "    stats.mannwhitneyu(orders[orders['group']=='A']['revenue'], \n",
    "                       orders[orders['group']=='B']['revenue'])[1]))\n",
    "\n",
    "print(\"Показатель 'B' к 'А'= {0:.3f}\".format(\n",
    "    orders[orders['group']=='B']['revenue'].mean()/\n",
    "    orders[orders['group']=='A']['revenue'].mean()-1))"
   ]
  },
  {
   "cell_type": "markdown",
   "metadata": {},
   "source": [
    "p-value значительно выше 0.05. Следовательно нулевую гипотезу о том, что нет различий в среднем чеке заказа по \"сырым\" данным, не отвергаем. \n",
    "Различия в среднем чеке составляют 26%. Однако наблюдаемые различия не являются значимыми при таком уровне значимости, а следовательно были получены случайно."
   ]
  },
  {
   "cell_type": "markdown",
   "metadata": {},
   "source": [
    "#### Статистическая значимость различий в среднем количестве заказов на посетителя между группами между группами по «очищенным» данным"
   ]
  },
  {
   "cell_type": "markdown",
   "metadata": {},
   "source": [
    "Формулируем гипотезы. Нулевая: Статистически значемых различий в среднем количестве заказов на посетителя между группами по \"очищенным\" данным нет. Альтернативная: Статистически значемые различия в среднем количестве заказов на посетителя между группами по \"очищенным\" данным есть."
   ]
  },
  {
   "cell_type": "code",
   "execution_count": 35,
   "metadata": {},
   "outputs": [],
   "source": [
    "usersWithManyOrders = pd.concat(\n",
    "    [\n",
    "        ordersByUsersA[ordersByUsersA['orders'] > 3]['visitor_id'],\n",
    "        ordersByUsersB[ordersByUsersB['orders'] > 3]['visitor_id'],\n",
    "    ],\n",
    "    axis=0,\n",
    ")\n",
    "usersWithExpensiveOrders = orders[orders['revenue'] > np.percentile(orders['revenue'],99)]['visitor_id']\n",
    "abnormalUsers = (\n",
    "    pd.concat([usersWithManyOrders, usersWithExpensiveOrders], axis=0)\n",
    "    .drop_duplicates()\n",
    "    .sort_values()\n",
    ")\n"
   ]
  },
  {
   "cell_type": "code",
   "execution_count": 36,
   "metadata": {},
   "outputs": [
    {
     "name": "stdout",
     "output_type": "stream",
     "text": [
      "p-value = 0.014\n",
      "Показатель 'B' к 'А'= 0.151\n"
     ]
    }
   ],
   "source": [
    "sampleAFiltered = pd.concat(\n",
    "    [\n",
    "        ordersByUsersA[\n",
    "            np.logical_not(ordersByUsersA['visitor_id'].isin(abnormalUsers))\n",
    "        ]['orders'],\n",
    "        pd.Series(\n",
    "            0,\n",
    "            index=np.arange(\n",
    "                data['visitorsPerDateA'].sum() - len(ordersByUsersA['orders'])\n",
    "            ),\n",
    "            name='orders',\n",
    "        ),\n",
    "    ],\n",
    "    axis=0,\n",
    ")\n",
    "\n",
    "sampleBFiltered = pd.concat(\n",
    "    [\n",
    "        ordersByUsersB[\n",
    "            np.logical_not(ordersByUsersB['visitor_id'].isin(abnormalUsers))\n",
    "        ]['orders'],\n",
    "        pd.Series(\n",
    "            0,\n",
    "            index=np.arange(\n",
    "                data['visitorsPerDateB'].sum() - len(ordersByUsersB['orders'])\n",
    "            ),\n",
    "            name='orders',\n",
    "        ),\n",
    "    ],\n",
    "    axis=0,\n",
    ")\n",
    "\n",
    "print(\"p-value = {0:.3f}\".format(stats.mannwhitneyu(sampleAFiltered, sampleBFiltered)[1]))\n",
    "print(\"Показатель 'B' к 'А'= {0:.3f}\".format(sampleBFiltered.mean()/sampleAFiltered.mean()-1))"
   ]
  },
  {
   "cell_type": "markdown",
   "metadata": {},
   "source": [
    "Значение p-value меньше 0.05, значит нулевую гипотезу, что различий количества заказов на посетителя по \"очищенным\" данным нет, отвергаем. Следовательно различия между группами есть. Относительное значение разницы между группами составляет 15%."
   ]
  },
  {
   "cell_type": "markdown",
   "metadata": {},
   "source": [
    "#### Статистическая значимость различий в среднем чеке заказа между группами по «очищенным» данным"
   ]
  },
  {
   "cell_type": "markdown",
   "metadata": {},
   "source": [
    "формулируем гипотезы. Нулевая: Статистически значемых различий в среднем чеке заказа между группами по \"очищенным\" данным нет. Альтернативная: Статистически значемые различия в среднем чеке заказа между группами по \"очищенным\" данным есть."
   ]
  },
  {
   "cell_type": "code",
   "execution_count": 37,
   "metadata": {},
   "outputs": [
    {
     "name": "stdout",
     "output_type": "stream",
     "text": [
      "p-value = 0.959\n",
      "Показатель 'B' к 'А'= -0.014\n"
     ]
    }
   ],
   "source": [
    "print(\n",
    "    \"p-value = {0:.3f}\".format(\n",
    "        stats.mannwhitneyu(\n",
    "            orders[\n",
    "                np.logical_and(\n",
    "                    orders['group'] == 'A',\n",
    "                    np.logical_not(orders['visitor_id'].isin(abnormalUsers)),\n",
    "                )\n",
    "            ]['revenue'],\n",
    "            orders[\n",
    "                np.logical_and(\n",
    "                    orders['group'] == 'B',\n",
    "                    np.logical_not(orders['visitor_id'].isin(abnormalUsers)),\n",
    "                )\n",
    "            ]['revenue'],\n",
    "        )[1]\n",
    "    )\n",
    ")\n",
    "\n",
    "print(\n",
    "    \"Показатель 'B' к 'А'= {0:.3f}\".format(\n",
    "        orders[\n",
    "            np.logical_and(\n",
    "                orders['group'] == 'B',\n",
    "                np.logical_not(orders['visitor_id'].isin(abnormalUsers)),\n",
    "            )\n",
    "        ]['revenue'].mean()\n",
    "        / orders[\n",
    "            np.logical_and(\n",
    "                orders['group'] == 'A',\n",
    "                np.logical_not(orders['visitor_id'].isin(abnormalUsers)),\n",
    "            )\n",
    "        ]['revenue'].mean()\n",
    "        - 1\n",
    "    )\n",
    ")"
   ]
  },
  {
   "cell_type": "markdown",
   "metadata": {},
   "source": [
    "p-value значительно выше 0.05. Следовательно нулевую гипотезу о том, что нет различий в среднем чеке заказа по \"очищенным\" данным, не отвергаем. Различий в среднем чеке практически нет - 1.4%. "
   ]
  },
  {
   "cell_type": "markdown",
   "metadata": {},
   "source": [
    "#### Решение по результатам теста"
   ]
  },
  {
   "cell_type": "markdown",
   "metadata": {},
   "source": [
    "Есть статистически значимое различие по конверсии между группами как по сырым данным, так и после фильтрации аномалий.\n",
    "По \"сырым\" данным разницы конверсий между группами 13,8%, а по очищенным 15%.\n",
    "\n",
    "По очищенным данным нет статистически значимого различия по среднему чеку между группами - 1.4% различий. Однако с учетом аномалий статистически значимое различие есть. Различия в среднем чеке составляют 26%, но наблюдаемые различия не являются значимыми при таком уровне значимости, а следовательно были получены случайно.\n",
    "График различия конверсии между группами сообщает, что результаты группы B лучше группы A: имеют тенденцию к росту, либо зафиксировались около среднего значения.\n",
    "\n",
    "Исходя из фактов выше, следует принять решение остановить тестирование и признать его успешным. Группа B значительно эффективнее по конверсии при примерно одинаковых значениях среднего чека."
   ]
  },
  {
   "cell_type": "markdown",
   "metadata": {},
   "source": [
    "### Общий вывод"
   ]
  },
  {
   "cell_type": "markdown",
   "metadata": {},
   "source": [
    "На этапе обзора данных мной установлено, что данные коректны. В них отсутствуют пропуски и дубликаты. Никакие пользователи в обе группы по таблице с заказами не попадают. Количество пользователей в каждой группе - по таблице с заказами отличается на 83. Даты начала и окончания теста 2019-08-01 - 2019-08-31.\n",
    "Динамика посетителей по дням по группам показывает резкие скачки пользователей, график идет вниз от понедельника к пятнице и резко растет на выходных днях.\n",
    "\n",
    "На этапе предобработки, для дальнейшего анализа столбцы с датой к приведены нужному формату и для удобства изменены названия столбцов к нижнему регистру.\n",
    "\n",
    "На этапе приоритезации: учитывая лучшие оценки параметров и количество затронутых пользователей, установлено, что стоит прорабатывать гипотезу с индексом 7, а именно \"Добавить форму подписки на все основные страницы, чтобы собрать базу клиентов для email-рассылок\".\n",
    "\n",
    "На основе анализа кумулятивных значения среднего чека и кумулятивной выручки обеих груп установлено, что в некоторые даты значения сильно менялись, это связано с аномальными значениями. \n",
    "\n",
    "Для \"очистки\" данных установлено, что основном пользователи совершают 1-2 заказа, поэтому за крайнее значение аномалий оставили пользователей, кто сделал не более 3х заказов. Также аномалиями можно считать пользователей, совершивших более трех заказов и чеки с суммой заказа 58233р.\n",
    "\n",
    "Есть статистически значимое различие по конверсии между группами как по сырым данным, так и после фильтрации аномалий. По \"сырым\" данным разницы конверсий между группами 13,8%, а по очищенным 15%.\n",
    "\n",
    "На основе выше перечисленного, принято решение остановить тестирование и признать его успешным. Группа B значительно эффективнее по конверсии при примерно одинаковых значениях среднего чека.\n",
    "\n"
   ]
  }
 ],
 "metadata": {
  "ExecuteTimeLog": [
   {
    "duration": 93,
    "start_time": "2023-05-05T14:00:45.938Z"
   },
   {
    "duration": 11,
    "start_time": "2023-05-05T14:01:20.067Z"
   },
   {
    "duration": 857,
    "start_time": "2023-05-05T14:02:00.177Z"
   },
   {
    "duration": 30,
    "start_time": "2023-05-05T14:02:01.038Z"
   },
   {
    "duration": 2221,
    "start_time": "2023-05-05T14:02:01.072Z"
   },
   {
    "duration": 14,
    "start_time": "2023-05-05T14:02:28.106Z"
   },
   {
    "duration": 24,
    "start_time": "2023-05-05T14:02:35.961Z"
   },
   {
    "duration": 19,
    "start_time": "2023-05-05T14:02:38.638Z"
   },
   {
    "duration": 12,
    "start_time": "2023-05-05T14:04:02.392Z"
   },
   {
    "duration": 12,
    "start_time": "2023-05-05T14:04:06.565Z"
   },
   {
    "duration": 20,
    "start_time": "2023-05-05T14:06:12.239Z"
   },
   {
    "duration": 13,
    "start_time": "2023-05-05T14:07:21.687Z"
   },
   {
    "duration": 11,
    "start_time": "2023-05-05T14:07:31.778Z"
   },
   {
    "duration": 8,
    "start_time": "2023-05-05T14:08:34.011Z"
   },
   {
    "duration": 10,
    "start_time": "2023-05-05T14:08:43.064Z"
   },
   {
    "duration": 8,
    "start_time": "2023-05-05T14:08:48.504Z"
   },
   {
    "duration": 15,
    "start_time": "2023-05-05T14:08:49.843Z"
   },
   {
    "duration": 12,
    "start_time": "2023-05-05T14:08:55.394Z"
   },
   {
    "duration": 20,
    "start_time": "2023-05-05T14:10:23.763Z"
   },
   {
    "duration": 10,
    "start_time": "2023-05-05T14:10:51.590Z"
   },
   {
    "duration": 20,
    "start_time": "2023-05-05T14:11:09.469Z"
   },
   {
    "duration": 4,
    "start_time": "2023-05-05T14:13:14.288Z"
   },
   {
    "duration": 4,
    "start_time": "2023-05-05T14:13:21.882Z"
   },
   {
    "duration": 27,
    "start_time": "2023-05-05T14:13:22.469Z"
   },
   {
    "duration": 9,
    "start_time": "2023-05-05T14:14:42.007Z"
   },
   {
    "duration": 10,
    "start_time": "2023-05-05T14:14:59.308Z"
   },
   {
    "duration": 7,
    "start_time": "2023-05-05T14:16:34.476Z"
   },
   {
    "duration": 11,
    "start_time": "2023-05-05T14:16:40.469Z"
   },
   {
    "duration": 15,
    "start_time": "2023-05-05T14:16:41.169Z"
   },
   {
    "duration": 11,
    "start_time": "2023-05-05T14:18:05.381Z"
   },
   {
    "duration": 21,
    "start_time": "2023-05-05T14:18:08.450Z"
   },
   {
    "duration": 13,
    "start_time": "2023-05-05T14:18:08.864Z"
   },
   {
    "duration": 15,
    "start_time": "2023-05-05T14:18:11.411Z"
   },
   {
    "duration": 6,
    "start_time": "2023-05-05T14:18:11.824Z"
   },
   {
    "duration": 11,
    "start_time": "2023-05-05T14:18:12.166Z"
   },
   {
    "duration": 563,
    "start_time": "2023-05-05T14:18:29.425Z"
   },
   {
    "duration": 16,
    "start_time": "2023-05-05T14:18:29.991Z"
   },
   {
    "duration": 54,
    "start_time": "2023-05-05T14:18:30.009Z"
   },
   {
    "duration": 42,
    "start_time": "2023-05-05T14:18:30.068Z"
   },
   {
    "duration": 85,
    "start_time": "2023-05-05T14:18:30.113Z"
   },
   {
    "duration": 56,
    "start_time": "2023-05-05T14:18:30.199Z"
   },
   {
    "duration": 75,
    "start_time": "2023-05-05T14:18:30.258Z"
   },
   {
    "duration": 92,
    "start_time": "2023-05-05T14:18:30.336Z"
   },
   {
    "duration": 72,
    "start_time": "2023-05-05T14:18:30.430Z"
   },
   {
    "duration": 99,
    "start_time": "2023-05-05T14:18:30.504Z"
   },
   {
    "duration": 15,
    "start_time": "2023-05-05T14:20:19.095Z"
   },
   {
    "duration": 13,
    "start_time": "2023-05-05T14:20:32.715Z"
   },
   {
    "duration": 8,
    "start_time": "2023-05-05T14:20:58.067Z"
   },
   {
    "duration": 5,
    "start_time": "2023-05-05T14:22:35.271Z"
   },
   {
    "duration": 682,
    "start_time": "2023-05-05T15:40:00.032Z"
   },
   {
    "duration": 560,
    "start_time": "2023-05-05T15:40:08.141Z"
   },
   {
    "duration": 445,
    "start_time": "2023-05-05T15:40:44.903Z"
   },
   {
    "duration": 97,
    "start_time": "2023-05-05T15:40:45.350Z"
   },
   {
    "duration": 23,
    "start_time": "2023-05-05T15:40:45.458Z"
   },
   {
    "duration": 45,
    "start_time": "2023-05-05T15:40:45.483Z"
   },
   {
    "duration": 160,
    "start_time": "2023-05-05T15:40:45.531Z"
   },
   {
    "duration": 23,
    "start_time": "2023-05-05T15:40:45.693Z"
   },
   {
    "duration": 29,
    "start_time": "2023-05-05T15:40:45.718Z"
   },
   {
    "duration": 71,
    "start_time": "2023-05-05T15:40:45.748Z"
   },
   {
    "duration": 66,
    "start_time": "2023-05-05T15:40:45.821Z"
   },
   {
    "duration": 46,
    "start_time": "2023-05-05T15:40:45.889Z"
   },
   {
    "duration": 96,
    "start_time": "2023-05-05T15:40:45.937Z"
   },
   {
    "duration": 21,
    "start_time": "2023-05-05T15:40:46.036Z"
   },
   {
    "duration": 758,
    "start_time": "2023-05-05T15:40:46.059Z"
   },
   {
    "duration": 513,
    "start_time": "2023-05-05T15:41:13.658Z"
   },
   {
    "duration": 114,
    "start_time": "2023-05-05T15:41:14.179Z"
   },
   {
    "duration": 58,
    "start_time": "2023-05-05T15:41:14.295Z"
   },
   {
    "duration": 83,
    "start_time": "2023-05-05T15:41:14.355Z"
   },
   {
    "duration": 64,
    "start_time": "2023-05-05T15:41:14.443Z"
   },
   {
    "duration": 22,
    "start_time": "2023-05-05T15:41:14.509Z"
   },
   {
    "duration": 49,
    "start_time": "2023-05-05T15:41:14.534Z"
   },
   {
    "duration": 18,
    "start_time": "2023-05-05T15:41:14.587Z"
   },
   {
    "duration": 6,
    "start_time": "2023-05-05T15:41:14.607Z"
   },
   {
    "duration": 77,
    "start_time": "2023-05-05T15:41:14.615Z"
   },
   {
    "duration": 10,
    "start_time": "2023-05-05T15:41:14.694Z"
   },
   {
    "duration": 602,
    "start_time": "2023-05-05T15:41:14.706Z"
   },
   {
    "duration": 334,
    "start_time": "2023-05-05T15:45:00.778Z"
   },
   {
    "duration": 10,
    "start_time": "2023-05-05T15:45:08.677Z"
   },
   {
    "duration": 493,
    "start_time": "2023-05-05T15:45:16.371Z"
   },
   {
    "duration": 100,
    "start_time": "2023-05-05T15:45:16.867Z"
   },
   {
    "duration": 17,
    "start_time": "2023-05-05T15:45:16.972Z"
   },
   {
    "duration": 15,
    "start_time": "2023-05-05T15:45:16.991Z"
   },
   {
    "duration": 25,
    "start_time": "2023-05-05T15:45:17.008Z"
   },
   {
    "duration": 56,
    "start_time": "2023-05-05T15:45:17.035Z"
   },
   {
    "duration": 18,
    "start_time": "2023-05-05T15:45:17.093Z"
   },
   {
    "duration": 37,
    "start_time": "2023-05-05T15:45:17.113Z"
   },
   {
    "duration": 50,
    "start_time": "2023-05-05T15:45:17.153Z"
   },
   {
    "duration": 118,
    "start_time": "2023-05-05T15:45:17.204Z"
   },
   {
    "duration": 12,
    "start_time": "2023-05-05T15:45:17.324Z"
   },
   {
    "duration": 48,
    "start_time": "2023-05-05T15:45:17.338Z"
   },
   {
    "duration": 605,
    "start_time": "2023-05-05T15:45:17.388Z"
   },
   {
    "duration": 24,
    "start_time": "2023-05-05T15:45:39.624Z"
   },
   {
    "duration": 461,
    "start_time": "2023-05-05T15:45:57.211Z"
   },
   {
    "duration": 97,
    "start_time": "2023-05-05T15:45:57.675Z"
   },
   {
    "duration": 21,
    "start_time": "2023-05-05T15:45:57.775Z"
   },
   {
    "duration": 12,
    "start_time": "2023-05-05T15:45:57.798Z"
   },
   {
    "duration": 15,
    "start_time": "2023-05-05T15:45:57.813Z"
   },
   {
    "duration": 144,
    "start_time": "2023-05-05T15:45:57.829Z"
   },
   {
    "duration": 17,
    "start_time": "2023-05-05T15:45:57.975Z"
   },
   {
    "duration": 20,
    "start_time": "2023-05-05T15:45:57.994Z"
   },
   {
    "duration": 56,
    "start_time": "2023-05-05T15:45:58.016Z"
   },
   {
    "duration": 111,
    "start_time": "2023-05-05T15:45:58.076Z"
   },
   {
    "duration": 22,
    "start_time": "2023-05-05T15:45:58.191Z"
   },
   {
    "duration": 10,
    "start_time": "2023-05-05T15:45:58.214Z"
   },
   {
    "duration": 12,
    "start_time": "2023-05-05T15:45:58.226Z"
   },
   {
    "duration": 567,
    "start_time": "2023-05-05T15:45:58.240Z"
   },
   {
    "duration": 8,
    "start_time": "2023-05-05T15:46:49.068Z"
   },
   {
    "duration": 551,
    "start_time": "2023-05-05T15:46:50.545Z"
   },
   {
    "duration": 537,
    "start_time": "2023-05-05T15:49:41.378Z"
   },
   {
    "duration": 975,
    "start_time": "2023-05-05T15:49:56.578Z"
   },
   {
    "duration": 123,
    "start_time": "2023-05-05T15:49:57.556Z"
   },
   {
    "duration": 29,
    "start_time": "2023-05-05T15:49:57.681Z"
   },
   {
    "duration": 12,
    "start_time": "2023-05-05T15:49:57.712Z"
   },
   {
    "duration": 16,
    "start_time": "2023-05-05T15:49:57.728Z"
   },
   {
    "duration": 49,
    "start_time": "2023-05-05T15:49:57.746Z"
   },
   {
    "duration": 92,
    "start_time": "2023-05-05T15:49:57.797Z"
   },
   {
    "duration": 15,
    "start_time": "2023-05-05T15:49:57.891Z"
   },
   {
    "duration": 14,
    "start_time": "2023-05-05T15:49:57.909Z"
   },
   {
    "duration": 27,
    "start_time": "2023-05-05T15:49:57.924Z"
   },
   {
    "duration": 17,
    "start_time": "2023-05-05T15:49:57.954Z"
   },
   {
    "duration": 108,
    "start_time": "2023-05-05T15:49:57.974Z"
   },
   {
    "duration": 8,
    "start_time": "2023-05-05T15:49:58.084Z"
   },
   {
    "duration": 519,
    "start_time": "2023-05-05T15:49:58.094Z"
   },
   {
    "duration": 812,
    "start_time": "2023-05-05T15:49:58.616Z"
   },
   {
    "duration": 607,
    "start_time": "2023-05-05T15:50:43.596Z"
   },
   {
    "duration": 11,
    "start_time": "2023-05-05T15:52:24.614Z"
   },
   {
    "duration": 9,
    "start_time": "2023-05-05T15:52:57.703Z"
   },
   {
    "duration": 11,
    "start_time": "2023-05-05T15:53:05.316Z"
   },
   {
    "duration": 602,
    "start_time": "2023-05-05T15:55:00.499Z"
   },
   {
    "duration": 797,
    "start_time": "2023-05-05T15:55:11.686Z"
   },
   {
    "duration": 118,
    "start_time": "2023-05-05T15:55:12.491Z"
   },
   {
    "duration": 16,
    "start_time": "2023-05-05T15:55:12.611Z"
   },
   {
    "duration": 23,
    "start_time": "2023-05-05T15:55:12.629Z"
   },
   {
    "duration": 45,
    "start_time": "2023-05-05T15:55:12.658Z"
   },
   {
    "duration": 18,
    "start_time": "2023-05-05T15:55:12.706Z"
   },
   {
    "duration": 14,
    "start_time": "2023-05-05T15:55:12.726Z"
   },
   {
    "duration": 53,
    "start_time": "2023-05-05T15:55:12.751Z"
   },
   {
    "duration": 8,
    "start_time": "2023-05-05T15:55:12.807Z"
   },
   {
    "duration": 16,
    "start_time": "2023-05-05T15:55:12.818Z"
   },
   {
    "duration": 29,
    "start_time": "2023-05-05T15:55:12.835Z"
   },
   {
    "duration": 630,
    "start_time": "2023-05-05T15:55:12.868Z"
   },
   {
    "duration": 0,
    "start_time": "2023-05-05T15:55:13.500Z"
   },
   {
    "duration": 0,
    "start_time": "2023-05-05T15:55:13.501Z"
   },
   {
    "duration": 0,
    "start_time": "2023-05-05T15:55:13.503Z"
   },
   {
    "duration": 724,
    "start_time": "2023-05-05T15:59:30.061Z"
   },
   {
    "duration": 19,
    "start_time": "2023-05-05T15:59:47.286Z"
   },
   {
    "duration": 9,
    "start_time": "2023-05-05T15:59:52.834Z"
   },
   {
    "duration": 29,
    "start_time": "2023-05-05T15:59:53.607Z"
   },
   {
    "duration": 838,
    "start_time": "2023-05-05T16:00:41.663Z"
   },
   {
    "duration": 794,
    "start_time": "2023-05-05T16:00:53.973Z"
   },
   {
    "duration": 112,
    "start_time": "2023-05-05T16:00:54.776Z"
   },
   {
    "duration": 18,
    "start_time": "2023-05-05T16:00:54.890Z"
   },
   {
    "duration": 14,
    "start_time": "2023-05-05T16:00:54.910Z"
   },
   {
    "duration": 27,
    "start_time": "2023-05-05T16:00:54.927Z"
   },
   {
    "duration": 59,
    "start_time": "2023-05-05T16:00:54.956Z"
   },
   {
    "duration": 45,
    "start_time": "2023-05-05T16:00:55.017Z"
   },
   {
    "duration": 40,
    "start_time": "2023-05-05T16:00:55.064Z"
   },
   {
    "duration": 10,
    "start_time": "2023-05-05T16:00:55.107Z"
   },
   {
    "duration": 54,
    "start_time": "2023-05-05T16:00:55.119Z"
   },
   {
    "duration": 31,
    "start_time": "2023-05-05T16:00:55.176Z"
   },
   {
    "duration": 14,
    "start_time": "2023-05-05T16:00:55.209Z"
   },
   {
    "duration": 13,
    "start_time": "2023-05-05T16:00:55.225Z"
   },
   {
    "duration": 167,
    "start_time": "2023-05-05T16:00:55.241Z"
   },
   {
    "duration": 0,
    "start_time": "2023-05-05T16:00:55.410Z"
   },
   {
    "duration": 461,
    "start_time": "2023-05-05T16:01:09.174Z"
   },
   {
    "duration": 881,
    "start_time": "2023-05-05T16:01:16.206Z"
   },
   {
    "duration": 117,
    "start_time": "2023-05-05T16:01:17.090Z"
   },
   {
    "duration": 14,
    "start_time": "2023-05-05T16:01:17.209Z"
   },
   {
    "duration": 85,
    "start_time": "2023-05-05T16:01:17.225Z"
   },
   {
    "duration": 87,
    "start_time": "2023-05-05T16:01:17.313Z"
   },
   {
    "duration": 27,
    "start_time": "2023-05-05T16:01:17.402Z"
   },
   {
    "duration": 62,
    "start_time": "2023-05-05T16:01:17.431Z"
   },
   {
    "duration": 18,
    "start_time": "2023-05-05T16:01:17.495Z"
   },
   {
    "duration": 10,
    "start_time": "2023-05-05T16:01:17.515Z"
   },
   {
    "duration": 38,
    "start_time": "2023-05-05T16:01:17.526Z"
   },
   {
    "duration": 43,
    "start_time": "2023-05-05T16:01:17.566Z"
   },
   {
    "duration": 10,
    "start_time": "2023-05-05T16:01:17.611Z"
   },
   {
    "duration": 9,
    "start_time": "2023-05-05T16:01:17.623Z"
   },
   {
    "duration": 157,
    "start_time": "2023-05-05T16:01:17.635Z"
   },
   {
    "duration": 0,
    "start_time": "2023-05-05T16:01:17.794Z"
   },
   {
    "duration": 872,
    "start_time": "2023-05-05T16:02:42.067Z"
   },
   {
    "duration": 144,
    "start_time": "2023-05-05T16:02:42.941Z"
   },
   {
    "duration": 20,
    "start_time": "2023-05-05T16:02:43.087Z"
   },
   {
    "duration": 23,
    "start_time": "2023-05-05T16:02:43.110Z"
   },
   {
    "duration": 77,
    "start_time": "2023-05-05T16:02:43.136Z"
   },
   {
    "duration": 99,
    "start_time": "2023-05-05T16:02:43.216Z"
   },
   {
    "duration": 114,
    "start_time": "2023-05-05T16:02:43.317Z"
   },
   {
    "duration": 76,
    "start_time": "2023-05-05T16:02:43.433Z"
   },
   {
    "duration": 19,
    "start_time": "2023-05-05T16:02:43.512Z"
   },
   {
    "duration": 94,
    "start_time": "2023-05-05T16:02:43.533Z"
   },
   {
    "duration": 93,
    "start_time": "2023-05-05T16:02:43.630Z"
   },
   {
    "duration": 28,
    "start_time": "2023-05-05T16:02:43.725Z"
   },
   {
    "duration": 68,
    "start_time": "2023-05-05T16:02:43.755Z"
   },
   {
    "duration": 188,
    "start_time": "2023-05-05T16:02:43.827Z"
   },
   {
    "duration": 0,
    "start_time": "2023-05-05T16:02:44.017Z"
   },
   {
    "duration": 874,
    "start_time": "2023-05-05T16:03:38.217Z"
   },
   {
    "duration": 127,
    "start_time": "2023-05-05T16:03:39.095Z"
   },
   {
    "duration": 21,
    "start_time": "2023-05-05T16:03:39.225Z"
   },
   {
    "duration": 69,
    "start_time": "2023-05-05T16:03:39.253Z"
   },
   {
    "duration": 20,
    "start_time": "2023-05-05T16:03:39.325Z"
   },
   {
    "duration": 55,
    "start_time": "2023-05-05T16:03:39.356Z"
   },
   {
    "duration": 9,
    "start_time": "2023-05-05T16:03:39.414Z"
   },
   {
    "duration": 36,
    "start_time": "2023-05-05T16:03:39.425Z"
   },
   {
    "duration": 39,
    "start_time": "2023-05-05T16:03:39.467Z"
   },
   {
    "duration": 34,
    "start_time": "2023-05-05T16:03:39.509Z"
   },
   {
    "duration": 76,
    "start_time": "2023-05-05T16:03:39.545Z"
   },
   {
    "duration": 11,
    "start_time": "2023-05-05T16:03:39.623Z"
   },
   {
    "duration": 60,
    "start_time": "2023-05-05T16:03:39.636Z"
   },
   {
    "duration": 137,
    "start_time": "2023-05-05T16:03:39.698Z"
   },
   {
    "duration": 0,
    "start_time": "2023-05-05T16:03:39.837Z"
   },
   {
    "duration": 14,
    "start_time": "2023-05-05T16:06:47.425Z"
   },
   {
    "duration": 229,
    "start_time": "2023-05-05T16:09:25.482Z"
   },
   {
    "duration": 544,
    "start_time": "2023-05-05T16:09:44.676Z"
   },
   {
    "duration": 570,
    "start_time": "2023-05-05T16:10:27.100Z"
   },
   {
    "duration": 855,
    "start_time": "2023-05-05T16:10:37.560Z"
   },
   {
    "duration": 111,
    "start_time": "2023-05-05T16:10:38.417Z"
   },
   {
    "duration": 20,
    "start_time": "2023-05-05T16:10:38.531Z"
   },
   {
    "duration": 65,
    "start_time": "2023-05-05T16:10:38.553Z"
   },
   {
    "duration": 18,
    "start_time": "2023-05-05T16:10:38.621Z"
   },
   {
    "duration": 76,
    "start_time": "2023-05-05T16:10:38.641Z"
   },
   {
    "duration": 41,
    "start_time": "2023-05-05T16:10:38.719Z"
   },
   {
    "duration": 56,
    "start_time": "2023-05-05T16:10:38.763Z"
   },
   {
    "duration": 19,
    "start_time": "2023-05-05T16:10:38.821Z"
   },
   {
    "duration": 25,
    "start_time": "2023-05-05T16:10:38.842Z"
   },
   {
    "duration": 32,
    "start_time": "2023-05-05T16:10:38.871Z"
   },
   {
    "duration": 24,
    "start_time": "2023-05-05T16:10:38.905Z"
   },
   {
    "duration": 23,
    "start_time": "2023-05-05T16:11:08.468Z"
   },
   {
    "duration": 1235,
    "start_time": "2023-05-05T16:25:16.074Z"
   },
   {
    "duration": 821,
    "start_time": "2023-05-05T16:25:32.420Z"
   },
   {
    "duration": 140,
    "start_time": "2023-05-05T16:25:33.243Z"
   },
   {
    "duration": 80,
    "start_time": "2023-05-05T16:25:33.385Z"
   },
   {
    "duration": 82,
    "start_time": "2023-05-05T16:25:33.478Z"
   },
   {
    "duration": 146,
    "start_time": "2023-05-05T16:25:33.581Z"
   },
   {
    "duration": 83,
    "start_time": "2023-05-05T16:25:33.730Z"
   },
   {
    "duration": 19,
    "start_time": "2023-05-05T16:25:33.815Z"
   },
   {
    "duration": 70,
    "start_time": "2023-05-05T16:25:33.836Z"
   },
   {
    "duration": 10,
    "start_time": "2023-05-05T16:25:33.907Z"
   },
   {
    "duration": 21,
    "start_time": "2023-05-05T16:25:33.919Z"
   },
   {
    "duration": 133,
    "start_time": "2023-05-05T16:25:33.948Z"
   },
   {
    "duration": 43,
    "start_time": "2023-05-05T16:25:34.083Z"
   },
   {
    "duration": 148,
    "start_time": "2023-05-05T16:25:34.128Z"
   },
   {
    "duration": 8,
    "start_time": "2023-05-05T16:30:51.268Z"
   },
   {
    "duration": 6,
    "start_time": "2023-05-05T16:31:05.820Z"
   },
   {
    "duration": 23,
    "start_time": "2023-05-05T16:31:47.131Z"
   },
   {
    "duration": 20,
    "start_time": "2023-05-05T16:32:05.281Z"
   },
   {
    "duration": 11,
    "start_time": "2023-05-05T16:41:20.729Z"
   },
   {
    "duration": 14,
    "start_time": "2023-05-05T16:41:24.086Z"
   },
   {
    "duration": 791,
    "start_time": "2023-05-05T16:41:59.471Z"
   },
   {
    "duration": 38,
    "start_time": "2023-05-05T16:44:50.210Z"
   },
   {
    "duration": 38,
    "start_time": "2023-05-05T16:45:24.665Z"
   },
   {
    "duration": 56,
    "start_time": "2023-05-05T16:45:34.829Z"
   },
   {
    "duration": 857,
    "start_time": "2023-05-05T16:46:22.313Z"
   },
   {
    "duration": 138,
    "start_time": "2023-05-05T16:46:23.177Z"
   },
   {
    "duration": 86,
    "start_time": "2023-05-05T16:46:23.319Z"
   },
   {
    "duration": 183,
    "start_time": "2023-05-05T16:46:23.410Z"
   },
   {
    "duration": 73,
    "start_time": "2023-05-05T16:46:23.604Z"
   },
   {
    "duration": 93,
    "start_time": "2023-05-05T16:46:23.684Z"
   },
   {
    "duration": 42,
    "start_time": "2023-05-05T16:46:23.786Z"
   },
   {
    "duration": 91,
    "start_time": "2023-05-05T16:46:23.831Z"
   },
   {
    "duration": 72,
    "start_time": "2023-05-05T16:46:23.925Z"
   },
   {
    "duration": 174,
    "start_time": "2023-05-05T16:46:24.011Z"
   },
   {
    "duration": 121,
    "start_time": "2023-05-05T16:46:24.193Z"
   },
   {
    "duration": 50,
    "start_time": "2023-05-05T16:46:24.317Z"
   },
   {
    "duration": 59,
    "start_time": "2023-05-05T16:46:24.370Z"
   },
   {
    "duration": 64,
    "start_time": "2023-05-05T16:46:24.431Z"
   },
   {
    "duration": 1066,
    "start_time": "2023-05-05T16:46:24.507Z"
   },
   {
    "duration": 856,
    "start_time": "2023-05-05T16:46:57.882Z"
   },
   {
    "duration": 673,
    "start_time": "2023-05-05T16:50:42.043Z"
   },
   {
    "duration": 795,
    "start_time": "2023-05-05T16:50:54.301Z"
   },
   {
    "duration": 674,
    "start_time": "2023-05-05T16:51:21.046Z"
   },
   {
    "duration": 604,
    "start_time": "2023-05-05T16:51:29.310Z"
   },
   {
    "duration": 660,
    "start_time": "2023-05-05T16:51:33.259Z"
   },
   {
    "duration": 761,
    "start_time": "2023-05-05T16:51:46.675Z"
   },
   {
    "duration": 796,
    "start_time": "2023-05-05T16:52:52.408Z"
   },
   {
    "duration": 752,
    "start_time": "2023-05-05T16:53:11.463Z"
   },
   {
    "duration": 708,
    "start_time": "2023-05-05T16:53:23.504Z"
   },
   {
    "duration": 704,
    "start_time": "2023-05-05T16:53:48.372Z"
   },
   {
    "duration": 76,
    "start_time": "2023-05-07T10:24:44.340Z"
   },
   {
    "duration": 960,
    "start_time": "2023-05-07T10:24:58.777Z"
   },
   {
    "duration": 343,
    "start_time": "2023-05-07T10:24:59.740Z"
   },
   {
    "duration": 12,
    "start_time": "2023-05-07T10:25:00.085Z"
   },
   {
    "duration": 31,
    "start_time": "2023-05-07T10:25:00.099Z"
   },
   {
    "duration": 69,
    "start_time": "2023-05-07T10:25:00.132Z"
   },
   {
    "duration": 103,
    "start_time": "2023-05-07T10:25:00.203Z"
   },
   {
    "duration": 71,
    "start_time": "2023-05-07T10:25:00.308Z"
   },
   {
    "duration": 58,
    "start_time": "2023-05-07T10:25:00.381Z"
   },
   {
    "duration": 75,
    "start_time": "2023-05-07T10:25:00.441Z"
   },
   {
    "duration": 28,
    "start_time": "2023-05-07T10:25:00.519Z"
   },
   {
    "duration": 66,
    "start_time": "2023-05-07T10:25:00.548Z"
   },
   {
    "duration": 108,
    "start_time": "2023-05-07T10:25:00.616Z"
   },
   {
    "duration": 78,
    "start_time": "2023-05-07T10:25:00.726Z"
   },
   {
    "duration": 38,
    "start_time": "2023-05-07T10:25:00.805Z"
   },
   {
    "duration": 685,
    "start_time": "2023-05-07T10:25:00.845Z"
   },
   {
    "duration": 266,
    "start_time": "2023-05-07T10:25:01.532Z"
   },
   {
    "duration": 264,
    "start_time": "2023-05-07T10:25:24.721Z"
   },
   {
    "duration": 328,
    "start_time": "2023-05-07T10:27:58.231Z"
   },
   {
    "duration": 320,
    "start_time": "2023-05-07T10:28:21.766Z"
   },
   {
    "duration": 325,
    "start_time": "2023-05-07T10:28:52.685Z"
   },
   {
    "duration": 94,
    "start_time": "2023-05-07T10:29:51.328Z"
   },
   {
    "duration": 72,
    "start_time": "2023-05-07T10:30:22.265Z"
   },
   {
    "duration": 87,
    "start_time": "2023-05-07T10:31:02.709Z"
   },
   {
    "duration": 373,
    "start_time": "2023-05-07T10:31:18.438Z"
   },
   {
    "duration": 192,
    "start_time": "2023-05-07T10:31:58.488Z"
   },
   {
    "duration": 532,
    "start_time": "2023-05-07T10:32:31.213Z"
   },
   {
    "duration": 92,
    "start_time": "2023-05-07T10:33:48.988Z"
   },
   {
    "duration": 81,
    "start_time": "2023-05-07T10:34:14.290Z"
   },
   {
    "duration": 9,
    "start_time": "2023-05-07T10:36:36.739Z"
   },
   {
    "duration": 1506,
    "start_time": "2023-05-07T10:37:43.925Z"
   },
   {
    "duration": 262,
    "start_time": "2023-05-07T10:38:33.436Z"
   },
   {
    "duration": 180,
    "start_time": "2023-05-07T10:38:57.804Z"
   },
   {
    "duration": 319,
    "start_time": "2023-05-07T10:39:50.067Z"
   },
   {
    "duration": 257,
    "start_time": "2023-05-07T10:40:34.669Z"
   },
   {
    "duration": 387,
    "start_time": "2023-05-07T10:43:39.314Z"
   },
   {
    "duration": 300,
    "start_time": "2023-05-07T10:44:25.476Z"
   },
   {
    "duration": 281,
    "start_time": "2023-05-07T10:45:00.433Z"
   },
   {
    "duration": 311,
    "start_time": "2023-05-07T10:45:12.785Z"
   },
   {
    "duration": 263,
    "start_time": "2023-05-07T10:45:22.299Z"
   },
   {
    "duration": 236,
    "start_time": "2023-05-07T10:45:59.866Z"
   },
   {
    "duration": 307,
    "start_time": "2023-05-07T10:46:18.736Z"
   },
   {
    "duration": 269,
    "start_time": "2023-05-07T10:46:53.672Z"
   },
   {
    "duration": 333,
    "start_time": "2023-05-07T10:47:09.200Z"
   },
   {
    "duration": 358,
    "start_time": "2023-05-07T10:47:28.575Z"
   },
   {
    "duration": 325,
    "start_time": "2023-05-07T10:47:49.730Z"
   },
   {
    "duration": 424,
    "start_time": "2023-05-07T10:47:52.857Z"
   },
   {
    "duration": 289,
    "start_time": "2023-05-07T10:48:10.781Z"
   },
   {
    "duration": 324,
    "start_time": "2023-05-07T10:49:27.277Z"
   },
   {
    "duration": 11,
    "start_time": "2023-05-07T10:52:19.500Z"
   },
   {
    "duration": 14,
    "start_time": "2023-05-07T10:52:42.416Z"
   },
   {
    "duration": 12,
    "start_time": "2023-05-07T10:52:57.908Z"
   },
   {
    "duration": 15,
    "start_time": "2023-05-07T10:53:05.009Z"
   },
   {
    "duration": 366,
    "start_time": "2023-05-07T10:53:42.081Z"
   },
   {
    "duration": 469,
    "start_time": "2023-05-07T10:54:20.025Z"
   },
   {
    "duration": 344,
    "start_time": "2023-05-07T10:55:09.288Z"
   },
   {
    "duration": 78,
    "start_time": "2023-05-09T09:45:15.510Z"
   },
   {
    "duration": 8,
    "start_time": "2023-05-09T09:46:16.197Z"
   },
   {
    "duration": 7,
    "start_time": "2023-05-09T09:46:26.194Z"
   },
   {
    "duration": 858,
    "start_time": "2023-05-09T09:46:34.349Z"
   },
   {
    "duration": 205,
    "start_time": "2023-05-09T09:46:35.209Z"
   },
   {
    "duration": 14,
    "start_time": "2023-05-09T09:46:35.416Z"
   },
   {
    "duration": 13,
    "start_time": "2023-05-09T09:46:35.432Z"
   },
   {
    "duration": 20,
    "start_time": "2023-05-09T09:46:35.447Z"
   },
   {
    "duration": 15,
    "start_time": "2023-05-09T09:46:35.469Z"
   },
   {
    "duration": 14,
    "start_time": "2023-05-09T09:46:35.485Z"
   },
   {
    "duration": 13,
    "start_time": "2023-05-09T09:46:35.511Z"
   },
   {
    "duration": 14,
    "start_time": "2023-05-09T09:46:35.526Z"
   },
   {
    "duration": 12,
    "start_time": "2023-05-09T09:46:35.542Z"
   },
   {
    "duration": 5,
    "start_time": "2023-05-09T09:46:35.556Z"
   },
   {
    "duration": 16,
    "start_time": "2023-05-09T09:46:35.562Z"
   },
   {
    "duration": 18,
    "start_time": "2023-05-09T09:46:35.580Z"
   },
   {
    "duration": 11,
    "start_time": "2023-05-09T09:46:35.612Z"
   },
   {
    "duration": 656,
    "start_time": "2023-05-09T09:46:35.625Z"
   },
   {
    "duration": 238,
    "start_time": "2023-05-09T09:46:36.283Z"
   },
   {
    "duration": 369,
    "start_time": "2023-05-09T09:46:36.524Z"
   },
   {
    "duration": 298,
    "start_time": "2023-05-09T09:46:36.895Z"
   },
   {
    "duration": 403,
    "start_time": "2023-05-09T09:46:37.195Z"
   },
   {
    "duration": 289,
    "start_time": "2023-05-09T09:46:37.599Z"
   },
   {
    "duration": 199,
    "start_time": "2023-05-09T09:47:36.700Z"
   },
   {
    "duration": 920,
    "start_time": "2023-05-09T09:48:14.879Z"
   },
   {
    "duration": 286,
    "start_time": "2023-05-09T09:48:21.393Z"
   },
   {
    "duration": 10,
    "start_time": "2023-05-09T09:49:21.403Z"
   },
   {
    "duration": 170,
    "start_time": "2023-05-09T09:50:02.498Z"
   },
   {
    "duration": 222,
    "start_time": "2023-05-09T09:51:20.716Z"
   },
   {
    "duration": 164,
    "start_time": "2023-05-09T09:51:44.477Z"
   },
   {
    "duration": 868,
    "start_time": "2023-05-09T09:53:15.893Z"
   },
   {
    "duration": 6,
    "start_time": "2023-05-09T09:53:30.686Z"
   },
   {
    "duration": 15,
    "start_time": "2023-05-09T09:55:08.788Z"
   },
   {
    "duration": 10,
    "start_time": "2023-05-09T09:55:17.241Z"
   },
   {
    "duration": 14,
    "start_time": "2023-05-09T09:55:41.784Z"
   },
   {
    "duration": 157,
    "start_time": "2023-05-09T09:55:52.480Z"
   },
   {
    "duration": 171,
    "start_time": "2023-05-09T09:57:28.530Z"
   },
   {
    "duration": 200,
    "start_time": "2023-05-09T09:57:42.105Z"
   },
   {
    "duration": 6,
    "start_time": "2023-05-09T09:59:01.496Z"
   },
   {
    "duration": 209,
    "start_time": "2023-05-09T10:01:52.653Z"
   },
   {
    "duration": 156,
    "start_time": "2023-05-09T10:44:11.709Z"
   },
   {
    "duration": 139,
    "start_time": "2023-05-09T10:46:56.767Z"
   },
   {
    "duration": 587,
    "start_time": "2023-05-09T10:47:38.949Z"
   },
   {
    "duration": 558,
    "start_time": "2023-05-09T10:50:57.589Z"
   },
   {
    "duration": 611,
    "start_time": "2023-05-09T10:52:34.850Z"
   },
   {
    "duration": 663,
    "start_time": "2023-05-09T10:54:33.083Z"
   },
   {
    "duration": 572,
    "start_time": "2023-05-09T10:54:45.785Z"
   },
   {
    "duration": 585,
    "start_time": "2023-05-09T10:57:00.231Z"
   },
   {
    "duration": 528,
    "start_time": "2023-05-09T10:58:03.025Z"
   },
   {
    "duration": 1158,
    "start_time": "2023-05-09T10:59:17.359Z"
   },
   {
    "duration": 77,
    "start_time": "2023-05-09T10:59:18.520Z"
   },
   {
    "duration": 11,
    "start_time": "2023-05-09T10:59:18.599Z"
   },
   {
    "duration": 18,
    "start_time": "2023-05-09T10:59:18.613Z"
   },
   {
    "duration": 13,
    "start_time": "2023-05-09T10:59:18.634Z"
   },
   {
    "duration": 13,
    "start_time": "2023-05-09T10:59:18.649Z"
   },
   {
    "duration": 8,
    "start_time": "2023-05-09T10:59:18.664Z"
   },
   {
    "duration": 40,
    "start_time": "2023-05-09T10:59:18.674Z"
   },
   {
    "duration": 25,
    "start_time": "2023-05-09T10:59:18.717Z"
   },
   {
    "duration": 6,
    "start_time": "2023-05-09T10:59:18.744Z"
   },
   {
    "duration": 4,
    "start_time": "2023-05-09T10:59:18.752Z"
   },
   {
    "duration": 17,
    "start_time": "2023-05-09T10:59:18.757Z"
   },
   {
    "duration": 17,
    "start_time": "2023-05-09T10:59:18.775Z"
   },
   {
    "duration": 35,
    "start_time": "2023-05-09T10:59:18.794Z"
   },
   {
    "duration": 730,
    "start_time": "2023-05-09T10:59:18.832Z"
   },
   {
    "duration": 243,
    "start_time": "2023-05-09T10:59:19.563Z"
   },
   {
    "duration": 364,
    "start_time": "2023-05-09T10:59:19.807Z"
   },
   {
    "duration": 243,
    "start_time": "2023-05-09T10:59:20.173Z"
   },
   {
    "duration": 389,
    "start_time": "2023-05-09T10:59:20.419Z"
   },
   {
    "duration": 17,
    "start_time": "2023-05-09T10:59:20.809Z"
   },
   {
    "duration": 161,
    "start_time": "2023-05-09T10:59:20.829Z"
   },
   {
    "duration": 5,
    "start_time": "2023-05-09T10:59:20.992Z"
   },
   {
    "duration": 206,
    "start_time": "2023-05-09T10:59:21.000Z"
   },
   {
    "duration": 6,
    "start_time": "2023-05-09T10:59:21.212Z"
   },
   {
    "duration": 645,
    "start_time": "2023-05-09T10:59:21.221Z"
   },
   {
    "duration": 358,
    "start_time": "2023-05-09T10:59:47.225Z"
   },
   {
    "duration": 255,
    "start_time": "2023-05-09T11:00:02.980Z"
   },
   {
    "duration": 336,
    "start_time": "2023-05-09T11:00:17.203Z"
   },
   {
    "duration": 70,
    "start_time": "2023-05-09T11:01:49.140Z"
   },
   {
    "duration": 56,
    "start_time": "2023-05-09T11:03:14.830Z"
   },
   {
    "duration": 64,
    "start_time": "2023-05-09T11:04:04.616Z"
   },
   {
    "duration": 1226,
    "start_time": "2023-05-09T11:05:03.474Z"
   },
   {
    "duration": 87,
    "start_time": "2023-05-09T11:05:04.702Z"
   },
   {
    "duration": 12,
    "start_time": "2023-05-09T11:05:04.791Z"
   },
   {
    "duration": 15,
    "start_time": "2023-05-09T11:05:04.805Z"
   },
   {
    "duration": 23,
    "start_time": "2023-05-09T11:05:04.822Z"
   },
   {
    "duration": 12,
    "start_time": "2023-05-09T11:05:04.847Z"
   },
   {
    "duration": 13,
    "start_time": "2023-05-09T11:05:04.860Z"
   },
   {
    "duration": 9,
    "start_time": "2023-05-09T11:05:04.875Z"
   },
   {
    "duration": 35,
    "start_time": "2023-05-09T11:05:04.886Z"
   },
   {
    "duration": 12,
    "start_time": "2023-05-09T11:05:04.925Z"
   },
   {
    "duration": 5,
    "start_time": "2023-05-09T11:05:04.942Z"
   },
   {
    "duration": 14,
    "start_time": "2023-05-09T11:05:04.949Z"
   },
   {
    "duration": 11,
    "start_time": "2023-05-09T11:05:04.965Z"
   },
   {
    "duration": 10,
    "start_time": "2023-05-09T11:05:04.977Z"
   },
   {
    "duration": 705,
    "start_time": "2023-05-09T11:05:04.989Z"
   },
   {
    "duration": 275,
    "start_time": "2023-05-09T11:05:05.696Z"
   },
   {
    "duration": 392,
    "start_time": "2023-05-09T11:05:05.972Z"
   },
   {
    "duration": 252,
    "start_time": "2023-05-09T11:05:06.366Z"
   },
   {
    "duration": 386,
    "start_time": "2023-05-09T11:05:06.620Z"
   },
   {
    "duration": 21,
    "start_time": "2023-05-09T11:05:07.012Z"
   },
   {
    "duration": 164,
    "start_time": "2023-05-09T11:05:07.036Z"
   },
   {
    "duration": 18,
    "start_time": "2023-05-09T11:05:07.202Z"
   },
   {
    "duration": 193,
    "start_time": "2023-05-09T11:05:07.223Z"
   },
   {
    "duration": 8,
    "start_time": "2023-05-09T11:05:07.418Z"
   },
   {
    "duration": 262,
    "start_time": "2023-05-09T11:05:07.428Z"
   },
   {
    "duration": 377,
    "start_time": "2023-05-09T11:05:07.692Z"
   },
   {
    "duration": 46,
    "start_time": "2023-05-09T11:05:08.070Z"
   },
   {
    "duration": 66,
    "start_time": "2023-05-09T11:10:32.037Z"
   },
   {
    "duration": 51,
    "start_time": "2023-05-09T11:11:14.257Z"
   },
   {
    "duration": 47,
    "start_time": "2023-05-09T11:11:41.450Z"
   },
   {
    "duration": 73,
    "start_time": "2023-05-09T11:12:04.693Z"
   },
   {
    "duration": 62,
    "start_time": "2023-05-09T11:15:37.192Z"
   },
   {
    "duration": 239,
    "start_time": "2023-05-09T11:16:28.035Z"
   },
   {
    "duration": 13,
    "start_time": "2023-05-09T11:18:29.892Z"
   },
   {
    "duration": 20,
    "start_time": "2023-05-09T11:18:38.593Z"
   },
   {
    "duration": 306,
    "start_time": "2023-05-09T11:21:00.205Z"
   },
   {
    "duration": 491,
    "start_time": "2023-05-09T11:21:00.692Z"
   },
   {
    "duration": 16,
    "start_time": "2023-05-09T11:21:01.952Z"
   },
   {
    "duration": 1516,
    "start_time": "2023-05-09T11:25:01.703Z"
   },
   {
    "duration": 992,
    "start_time": "2023-05-09T11:25:14.297Z"
   },
   {
    "duration": 17,
    "start_time": "2023-05-09T11:25:55.831Z"
   },
   {
    "duration": 1209,
    "start_time": "2023-05-09T11:26:49.694Z"
   },
   {
    "duration": 83,
    "start_time": "2023-05-09T11:26:50.905Z"
   },
   {
    "duration": 11,
    "start_time": "2023-05-09T11:26:50.989Z"
   },
   {
    "duration": 16,
    "start_time": "2023-05-09T11:26:51.002Z"
   },
   {
    "duration": 18,
    "start_time": "2023-05-09T11:26:51.020Z"
   },
   {
    "duration": 13,
    "start_time": "2023-05-09T11:26:51.043Z"
   },
   {
    "duration": 19,
    "start_time": "2023-05-09T11:26:51.057Z"
   },
   {
    "duration": 9,
    "start_time": "2023-05-09T11:26:51.079Z"
   },
   {
    "duration": 27,
    "start_time": "2023-05-09T11:26:51.089Z"
   },
   {
    "duration": 10,
    "start_time": "2023-05-09T11:26:51.120Z"
   },
   {
    "duration": 11,
    "start_time": "2023-05-09T11:26:51.132Z"
   },
   {
    "duration": 14,
    "start_time": "2023-05-09T11:26:51.145Z"
   },
   {
    "duration": 11,
    "start_time": "2023-05-09T11:26:51.161Z"
   },
   {
    "duration": 14,
    "start_time": "2023-05-09T11:26:51.175Z"
   },
   {
    "duration": 687,
    "start_time": "2023-05-09T11:26:51.191Z"
   },
   {
    "duration": 247,
    "start_time": "2023-05-09T11:26:51.880Z"
   },
   {
    "duration": 346,
    "start_time": "2023-05-09T11:26:52.129Z"
   },
   {
    "duration": 255,
    "start_time": "2023-05-09T11:26:52.477Z"
   },
   {
    "duration": 353,
    "start_time": "2023-05-09T11:26:52.734Z"
   },
   {
    "duration": 27,
    "start_time": "2023-05-09T11:26:53.089Z"
   },
   {
    "duration": 164,
    "start_time": "2023-05-09T11:26:53.119Z"
   },
   {
    "duration": 5,
    "start_time": "2023-05-09T11:26:53.286Z"
   },
   {
    "duration": 235,
    "start_time": "2023-05-09T11:26:53.293Z"
   },
   {
    "duration": 10,
    "start_time": "2023-05-09T11:26:53.530Z"
   },
   {
    "duration": 276,
    "start_time": "2023-05-09T11:26:53.545Z"
   },
   {
    "duration": 330,
    "start_time": "2023-05-09T11:26:53.822Z"
   },
   {
    "duration": 13,
    "start_time": "2023-05-09T11:26:54.154Z"
   },
   {
    "duration": 1076,
    "start_time": "2023-05-09T11:26:54.170Z"
   },
   {
    "duration": 0,
    "start_time": "2023-05-09T11:26:55.248Z"
   },
   {
    "duration": 1025,
    "start_time": "2023-05-09T11:27:21.477Z"
   },
   {
    "duration": 0,
    "start_time": "2023-05-09T11:27:22.504Z"
   },
   {
    "duration": 1025,
    "start_time": "2023-05-09T11:28:29.209Z"
   },
   {
    "duration": 995,
    "start_time": "2023-05-09T11:29:41.840Z"
   },
   {
    "duration": 351,
    "start_time": "2023-05-09T11:30:12.507Z"
   },
   {
    "duration": 14,
    "start_time": "2023-05-09T11:30:15.137Z"
   },
   {
    "duration": 11,
    "start_time": "2023-05-09T11:30:17.010Z"
   },
   {
    "duration": 33,
    "start_time": "2023-05-09T11:30:29.752Z"
   },
   {
    "duration": 15,
    "start_time": "2023-05-09T11:30:47.814Z"
   },
   {
    "duration": 11,
    "start_time": "2023-05-09T11:30:51.342Z"
   },
   {
    "duration": 328,
    "start_time": "2023-05-09T11:31:16.948Z"
   },
   {
    "duration": 350,
    "start_time": "2023-05-09T11:31:25.973Z"
   },
   {
    "duration": 38,
    "start_time": "2023-05-09T11:33:13.534Z"
   },
   {
    "duration": 19,
    "start_time": "2023-05-09T11:34:18.949Z"
   },
   {
    "duration": 341,
    "start_time": "2023-05-09T13:37:02.302Z"
   },
   {
    "duration": 9,
    "start_time": "2023-05-09T14:02:06.500Z"
   },
   {
    "duration": 46,
    "start_time": "2023-05-09T14:02:07.236Z"
   },
   {
    "duration": 1215,
    "start_time": "2023-05-09T14:14:19.977Z"
   },
   {
    "duration": 88,
    "start_time": "2023-05-09T14:14:21.194Z"
   },
   {
    "duration": 11,
    "start_time": "2023-05-09T14:14:21.284Z"
   },
   {
    "duration": 12,
    "start_time": "2023-05-09T14:14:21.296Z"
   },
   {
    "duration": 26,
    "start_time": "2023-05-09T14:14:21.310Z"
   },
   {
    "duration": 19,
    "start_time": "2023-05-09T14:14:21.339Z"
   },
   {
    "duration": 13,
    "start_time": "2023-05-09T14:14:21.360Z"
   },
   {
    "duration": 9,
    "start_time": "2023-05-09T14:14:21.375Z"
   },
   {
    "duration": 11,
    "start_time": "2023-05-09T14:14:21.385Z"
   },
   {
    "duration": 29,
    "start_time": "2023-05-09T14:14:21.398Z"
   },
   {
    "duration": 22,
    "start_time": "2023-05-09T14:14:21.440Z"
   },
   {
    "duration": 14,
    "start_time": "2023-05-09T14:14:21.464Z"
   },
   {
    "duration": 11,
    "start_time": "2023-05-09T14:14:21.480Z"
   },
   {
    "duration": 10,
    "start_time": "2023-05-09T14:14:21.493Z"
   },
   {
    "duration": 697,
    "start_time": "2023-05-09T14:14:21.504Z"
   },
   {
    "duration": 266,
    "start_time": "2023-05-09T14:14:22.203Z"
   },
   {
    "duration": 375,
    "start_time": "2023-05-09T14:14:22.471Z"
   },
   {
    "duration": 257,
    "start_time": "2023-05-09T14:14:22.848Z"
   },
   {
    "duration": 396,
    "start_time": "2023-05-09T14:14:23.107Z"
   },
   {
    "duration": 19,
    "start_time": "2023-05-09T14:14:23.505Z"
   },
   {
    "duration": 163,
    "start_time": "2023-05-09T14:14:23.535Z"
   },
   {
    "duration": 4,
    "start_time": "2023-05-09T14:14:23.699Z"
   },
   {
    "duration": 200,
    "start_time": "2023-05-09T14:14:23.713Z"
   },
   {
    "duration": 9,
    "start_time": "2023-05-09T14:14:23.915Z"
   },
   {
    "duration": 264,
    "start_time": "2023-05-09T14:14:23.927Z"
   },
   {
    "duration": 367,
    "start_time": "2023-05-09T14:14:24.193Z"
   },
   {
    "duration": 13,
    "start_time": "2023-05-09T14:14:24.562Z"
   },
   {
    "duration": 12,
    "start_time": "2023-05-09T14:14:24.576Z"
   },
   {
    "duration": 80,
    "start_time": "2023-05-09T14:14:24.590Z"
   },
   {
    "duration": 18,
    "start_time": "2023-05-09T14:14:24.672Z"
   },
   {
    "duration": 1451,
    "start_time": "2023-05-10T06:32:51.821Z"
   },
   {
    "duration": 258,
    "start_time": "2023-05-10T06:32:53.275Z"
   },
   {
    "duration": 15,
    "start_time": "2023-05-10T06:32:53.536Z"
   },
   {
    "duration": 22,
    "start_time": "2023-05-10T06:32:53.554Z"
   },
   {
    "duration": 1286,
    "start_time": "2023-05-10T06:32:55.966Z"
   },
   {
    "duration": 86,
    "start_time": "2023-05-10T06:32:57.255Z"
   },
   {
    "duration": 14,
    "start_time": "2023-05-10T06:32:57.343Z"
   },
   {
    "duration": 31,
    "start_time": "2023-05-10T06:32:57.360Z"
   },
   {
    "duration": 26,
    "start_time": "2023-05-10T06:32:57.393Z"
   },
   {
    "duration": 18,
    "start_time": "2023-05-10T06:32:57.421Z"
   },
   {
    "duration": 20,
    "start_time": "2023-05-10T06:32:57.440Z"
   },
   {
    "duration": 12,
    "start_time": "2023-05-10T06:32:57.462Z"
   },
   {
    "duration": 21,
    "start_time": "2023-05-10T06:32:57.476Z"
   },
   {
    "duration": 17,
    "start_time": "2023-05-10T06:32:57.501Z"
   },
   {
    "duration": 10,
    "start_time": "2023-05-10T06:32:57.520Z"
   },
   {
    "duration": 27,
    "start_time": "2023-05-10T06:32:57.532Z"
   },
   {
    "duration": 15,
    "start_time": "2023-05-10T06:32:57.561Z"
   },
   {
    "duration": 11,
    "start_time": "2023-05-10T06:32:57.577Z"
   },
   {
    "duration": 626,
    "start_time": "2023-05-10T06:32:57.589Z"
   },
   {
    "duration": 241,
    "start_time": "2023-05-10T06:32:58.217Z"
   },
   {
    "duration": 341,
    "start_time": "2023-05-10T06:32:58.460Z"
   },
   {
    "duration": 240,
    "start_time": "2023-05-10T06:32:58.803Z"
   },
   {
    "duration": 369,
    "start_time": "2023-05-10T06:32:59.045Z"
   },
   {
    "duration": 11,
    "start_time": "2023-05-10T06:32:59.416Z"
   },
   {
    "duration": 168,
    "start_time": "2023-05-10T06:32:59.429Z"
   },
   {
    "duration": 5,
    "start_time": "2023-05-10T06:32:59.599Z"
   },
   {
    "duration": 201,
    "start_time": "2023-05-10T06:32:59.607Z"
   },
   {
    "duration": 6,
    "start_time": "2023-05-10T06:32:59.810Z"
   },
   {
    "duration": 254,
    "start_time": "2023-05-10T06:32:59.819Z"
   },
   {
    "duration": 301,
    "start_time": "2023-05-10T06:33:00.075Z"
   },
   {
    "duration": 15,
    "start_time": "2023-05-10T06:33:00.378Z"
   },
   {
    "duration": 51,
    "start_time": "2023-05-10T06:33:00.397Z"
   },
   {
    "duration": 87,
    "start_time": "2023-05-10T06:33:00.450Z"
   },
   {
    "duration": 54,
    "start_time": "2023-05-10T06:33:00.539Z"
   },
   {
    "duration": 51,
    "start_time": "2023-05-10T09:27:31.921Z"
   },
   {
    "duration": 6,
    "start_time": "2023-05-10T09:27:45.498Z"
   },
   {
    "duration": 1334,
    "start_time": "2023-05-10T09:27:51.675Z"
   },
   {
    "duration": 188,
    "start_time": "2023-05-10T09:27:53.011Z"
   },
   {
    "duration": 13,
    "start_time": "2023-05-10T09:27:53.201Z"
   },
   {
    "duration": 31,
    "start_time": "2023-05-10T09:27:53.217Z"
   },
   {
    "duration": 22,
    "start_time": "2023-05-10T09:27:53.249Z"
   },
   {
    "duration": 23,
    "start_time": "2023-05-10T09:27:53.273Z"
   },
   {
    "duration": 27,
    "start_time": "2023-05-10T09:27:53.298Z"
   },
   {
    "duration": 21,
    "start_time": "2023-05-10T09:27:53.326Z"
   },
   {
    "duration": 29,
    "start_time": "2023-05-10T09:27:53.349Z"
   },
   {
    "duration": 9,
    "start_time": "2023-05-10T09:27:53.382Z"
   },
   {
    "duration": 13,
    "start_time": "2023-05-10T09:27:53.393Z"
   },
   {
    "duration": 31,
    "start_time": "2023-05-10T09:27:53.408Z"
   },
   {
    "duration": 15,
    "start_time": "2023-05-10T09:27:53.441Z"
   },
   {
    "duration": 11,
    "start_time": "2023-05-10T09:27:53.458Z"
   },
   {
    "duration": 631,
    "start_time": "2023-05-10T09:27:53.471Z"
   },
   {
    "duration": 214,
    "start_time": "2023-05-10T09:27:54.111Z"
   },
   {
    "duration": 364,
    "start_time": "2023-05-10T09:27:54.327Z"
   },
   {
    "duration": 222,
    "start_time": "2023-05-10T09:27:54.692Z"
   },
   {
    "duration": 350,
    "start_time": "2023-05-10T09:27:54.916Z"
   },
   {
    "duration": 10,
    "start_time": "2023-05-10T09:27:55.268Z"
   },
   {
    "duration": 155,
    "start_time": "2023-05-10T09:27:55.280Z"
   },
   {
    "duration": 4,
    "start_time": "2023-05-10T09:27:55.437Z"
   },
   {
    "duration": 188,
    "start_time": "2023-05-10T09:27:55.443Z"
   },
   {
    "duration": 4,
    "start_time": "2023-05-10T09:27:55.633Z"
   },
   {
    "duration": 254,
    "start_time": "2023-05-10T09:27:55.639Z"
   },
   {
    "duration": 311,
    "start_time": "2023-05-10T09:27:55.894Z"
   },
   {
    "duration": 12,
    "start_time": "2023-05-10T09:27:56.207Z"
   },
   {
    "duration": 10,
    "start_time": "2023-05-10T09:27:56.221Z"
   },
   {
    "duration": 29,
    "start_time": "2023-05-10T09:27:56.233Z"
   },
   {
    "duration": 14,
    "start_time": "2023-05-10T09:27:56.264Z"
   },
   {
    "duration": 10,
    "start_time": "2023-05-10T09:28:48.342Z"
   },
   {
    "duration": 9,
    "start_time": "2023-05-10T09:29:05.107Z"
   },
   {
    "duration": 10,
    "start_time": "2023-05-10T09:29:11.720Z"
   },
   {
    "duration": 9,
    "start_time": "2023-05-10T09:29:17.382Z"
   },
   {
    "duration": 9,
    "start_time": "2023-05-10T09:29:23.311Z"
   },
   {
    "duration": 11,
    "start_time": "2023-05-10T09:29:27.839Z"
   },
   {
    "duration": 9,
    "start_time": "2023-05-10T09:29:31.676Z"
   },
   {
    "duration": 9,
    "start_time": "2023-05-10T09:29:35.441Z"
   },
   {
    "duration": 9,
    "start_time": "2023-05-10T09:29:39.343Z"
   },
   {
    "duration": 9,
    "start_time": "2023-05-10T09:29:46.517Z"
   },
   {
    "duration": 10,
    "start_time": "2023-05-10T09:29:51.410Z"
   },
   {
    "duration": 9,
    "start_time": "2023-05-10T09:30:08.482Z"
   },
   {
    "duration": 9,
    "start_time": "2023-05-10T09:30:18.476Z"
   },
   {
    "duration": 9,
    "start_time": "2023-05-10T09:30:22.407Z"
   },
   {
    "duration": 11,
    "start_time": "2023-05-10T09:30:27.919Z"
   },
   {
    "duration": 10,
    "start_time": "2023-05-10T09:30:40.822Z"
   },
   {
    "duration": 10,
    "start_time": "2023-05-10T09:30:47.510Z"
   },
   {
    "duration": 9,
    "start_time": "2023-05-10T09:30:55.871Z"
   },
   {
    "duration": 9,
    "start_time": "2023-05-10T09:31:01.230Z"
   },
   {
    "duration": 9,
    "start_time": "2023-05-10T09:31:13.219Z"
   },
   {
    "duration": 10,
    "start_time": "2023-05-10T09:32:06.513Z"
   },
   {
    "duration": 122,
    "start_time": "2023-05-10T09:32:22.679Z"
   },
   {
    "duration": 10,
    "start_time": "2023-05-10T09:32:42.673Z"
   },
   {
    "duration": 10,
    "start_time": "2023-05-10T09:35:08.529Z"
   },
   {
    "duration": 10,
    "start_time": "2023-05-10T09:36:06.566Z"
   },
   {
    "duration": 5,
    "start_time": "2023-05-10T09:43:55.845Z"
   },
   {
    "duration": 4,
    "start_time": "2023-05-10T09:44:24.989Z"
   },
   {
    "duration": 5,
    "start_time": "2023-05-10T09:45:26.727Z"
   },
   {
    "duration": 4,
    "start_time": "2023-05-10T09:45:51.305Z"
   },
   {
    "duration": 8,
    "start_time": "2023-05-10T09:48:07.172Z"
   },
   {
    "duration": 11,
    "start_time": "2023-05-10T09:48:18.569Z"
   },
   {
    "duration": 828,
    "start_time": "2023-05-10T09:50:32.176Z"
   },
   {
    "duration": 1166,
    "start_time": "2023-05-10T09:51:14.223Z"
   },
   {
    "duration": 79,
    "start_time": "2023-05-10T09:51:15.391Z"
   },
   {
    "duration": 12,
    "start_time": "2023-05-10T09:51:15.472Z"
   },
   {
    "duration": 18,
    "start_time": "2023-05-10T09:51:15.485Z"
   },
   {
    "duration": 24,
    "start_time": "2023-05-10T09:51:15.504Z"
   },
   {
    "duration": 13,
    "start_time": "2023-05-10T09:51:15.530Z"
   },
   {
    "duration": 7,
    "start_time": "2023-05-10T09:51:15.545Z"
   },
   {
    "duration": 6,
    "start_time": "2023-05-10T09:51:15.554Z"
   },
   {
    "duration": 9,
    "start_time": "2023-05-10T09:51:15.562Z"
   },
   {
    "duration": 23,
    "start_time": "2023-05-10T09:51:15.574Z"
   },
   {
    "duration": 24,
    "start_time": "2023-05-10T09:51:15.599Z"
   },
   {
    "duration": 12,
    "start_time": "2023-05-10T09:51:15.629Z"
   },
   {
    "duration": 6,
    "start_time": "2023-05-10T09:51:15.643Z"
   },
   {
    "duration": 14,
    "start_time": "2023-05-10T09:51:15.650Z"
   },
   {
    "duration": 12,
    "start_time": "2023-05-10T09:51:15.665Z"
   },
   {
    "duration": 5,
    "start_time": "2023-05-10T09:51:15.679Z"
   },
   {
    "duration": 41,
    "start_time": "2023-05-10T09:51:15.685Z"
   },
   {
    "duration": 12,
    "start_time": "2023-05-10T09:51:15.728Z"
   },
   {
    "duration": 11,
    "start_time": "2023-05-10T09:51:15.741Z"
   },
   {
    "duration": 620,
    "start_time": "2023-05-10T09:51:15.753Z"
   },
   {
    "duration": 231,
    "start_time": "2023-05-10T09:51:16.375Z"
   },
   {
    "duration": 371,
    "start_time": "2023-05-10T09:51:16.613Z"
   },
   {
    "duration": 242,
    "start_time": "2023-05-10T09:51:16.986Z"
   },
   {
    "duration": 352,
    "start_time": "2023-05-10T09:51:17.230Z"
   },
   {
    "duration": 10,
    "start_time": "2023-05-10T09:51:17.585Z"
   },
   {
    "duration": 149,
    "start_time": "2023-05-10T09:51:17.614Z"
   },
   {
    "duration": 4,
    "start_time": "2023-05-10T09:51:17.765Z"
   },
   {
    "duration": 200,
    "start_time": "2023-05-10T09:51:17.772Z"
   },
   {
    "duration": 5,
    "start_time": "2023-05-10T09:51:17.974Z"
   },
   {
    "duration": 366,
    "start_time": "2023-05-10T09:51:17.981Z"
   },
   {
    "duration": 299,
    "start_time": "2023-05-10T09:51:18.349Z"
   },
   {
    "duration": 12,
    "start_time": "2023-05-10T09:51:18.649Z"
   },
   {
    "duration": 8,
    "start_time": "2023-05-10T09:51:18.663Z"
   },
   {
    "duration": 67,
    "start_time": "2023-05-10T09:51:18.673Z"
   },
   {
    "duration": 15,
    "start_time": "2023-05-10T09:51:18.741Z"
   },
   {
    "duration": 1023,
    "start_time": "2023-05-10T09:51:37.787Z"
   },
   {
    "duration": 1140,
    "start_time": "2023-05-10T09:51:44.649Z"
   },
   {
    "duration": 72,
    "start_time": "2023-05-10T09:51:45.791Z"
   },
   {
    "duration": 13,
    "start_time": "2023-05-10T09:51:45.864Z"
   },
   {
    "duration": 18,
    "start_time": "2023-05-10T09:51:45.878Z"
   },
   {
    "duration": 9,
    "start_time": "2023-05-10T09:51:45.898Z"
   },
   {
    "duration": 21,
    "start_time": "2023-05-10T09:51:45.909Z"
   },
   {
    "duration": 8,
    "start_time": "2023-05-10T09:51:45.931Z"
   },
   {
    "duration": 12,
    "start_time": "2023-05-10T09:51:45.940Z"
   },
   {
    "duration": 8,
    "start_time": "2023-05-10T09:51:45.954Z"
   },
   {
    "duration": 11,
    "start_time": "2023-05-10T09:51:45.963Z"
   },
   {
    "duration": 8,
    "start_time": "2023-05-10T09:51:45.975Z"
   },
   {
    "duration": 11,
    "start_time": "2023-05-10T09:51:45.984Z"
   },
   {
    "duration": 11,
    "start_time": "2023-05-10T09:51:46.011Z"
   },
   {
    "duration": 8,
    "start_time": "2023-05-10T09:51:46.026Z"
   },
   {
    "duration": 6,
    "start_time": "2023-05-10T09:51:46.036Z"
   },
   {
    "duration": 5,
    "start_time": "2023-05-10T09:51:46.044Z"
   },
   {
    "duration": 27,
    "start_time": "2023-05-10T09:51:46.051Z"
   },
   {
    "duration": 34,
    "start_time": "2023-05-10T09:51:46.080Z"
   },
   {
    "duration": 11,
    "start_time": "2023-05-10T09:51:46.120Z"
   },
   {
    "duration": 648,
    "start_time": "2023-05-10T09:51:46.133Z"
   },
   {
    "duration": 245,
    "start_time": "2023-05-10T09:51:46.782Z"
   },
   {
    "duration": 347,
    "start_time": "2023-05-10T09:51:47.029Z"
   },
   {
    "duration": 244,
    "start_time": "2023-05-10T09:51:47.378Z"
   },
   {
    "duration": 351,
    "start_time": "2023-05-10T09:51:47.624Z"
   },
   {
    "duration": 11,
    "start_time": "2023-05-10T09:51:47.977Z"
   },
   {
    "duration": 167,
    "start_time": "2023-05-10T09:51:47.990Z"
   },
   {
    "duration": 6,
    "start_time": "2023-05-10T09:51:48.159Z"
   },
   {
    "duration": 202,
    "start_time": "2023-05-10T09:51:48.166Z"
   },
   {
    "duration": 6,
    "start_time": "2023-05-10T09:51:48.370Z"
   },
   {
    "duration": 267,
    "start_time": "2023-05-10T09:51:48.378Z"
   },
   {
    "duration": 341,
    "start_time": "2023-05-10T09:51:48.646Z"
   },
   {
    "duration": 10,
    "start_time": "2023-05-10T09:51:48.990Z"
   },
   {
    "duration": 28,
    "start_time": "2023-05-10T09:51:49.017Z"
   },
   {
    "duration": 76,
    "start_time": "2023-05-10T09:51:49.048Z"
   },
   {
    "duration": 24,
    "start_time": "2023-05-10T09:51:49.127Z"
   },
   {
    "duration": 1280,
    "start_time": "2023-05-10T09:55:30.405Z"
   },
   {
    "duration": 68,
    "start_time": "2023-05-10T09:55:31.688Z"
   },
   {
    "duration": 13,
    "start_time": "2023-05-10T09:55:31.759Z"
   },
   {
    "duration": 64,
    "start_time": "2023-05-10T09:55:31.773Z"
   },
   {
    "duration": 46,
    "start_time": "2023-05-10T09:55:31.840Z"
   },
   {
    "duration": 47,
    "start_time": "2023-05-10T09:55:31.888Z"
   },
   {
    "duration": 63,
    "start_time": "2023-05-10T09:55:31.936Z"
   },
   {
    "duration": 76,
    "start_time": "2023-05-10T09:55:32.001Z"
   },
   {
    "duration": 141,
    "start_time": "2023-05-10T09:55:32.079Z"
   },
   {
    "duration": 0,
    "start_time": "2023-05-10T09:55:32.222Z"
   },
   {
    "duration": 0,
    "start_time": "2023-05-10T09:55:32.224Z"
   },
   {
    "duration": 0,
    "start_time": "2023-05-10T09:55:32.225Z"
   },
   {
    "duration": 0,
    "start_time": "2023-05-10T09:55:32.227Z"
   },
   {
    "duration": 1,
    "start_time": "2023-05-10T09:55:32.228Z"
   },
   {
    "duration": 0,
    "start_time": "2023-05-10T09:55:32.230Z"
   },
   {
    "duration": 0,
    "start_time": "2023-05-10T09:55:32.231Z"
   },
   {
    "duration": 0,
    "start_time": "2023-05-10T09:55:32.233Z"
   },
   {
    "duration": 0,
    "start_time": "2023-05-10T09:55:32.234Z"
   },
   {
    "duration": 0,
    "start_time": "2023-05-10T09:55:32.236Z"
   },
   {
    "duration": 0,
    "start_time": "2023-05-10T09:55:32.237Z"
   },
   {
    "duration": 0,
    "start_time": "2023-05-10T09:55:32.239Z"
   },
   {
    "duration": 0,
    "start_time": "2023-05-10T09:55:32.240Z"
   },
   {
    "duration": 0,
    "start_time": "2023-05-10T09:55:32.241Z"
   },
   {
    "duration": 0,
    "start_time": "2023-05-10T09:55:32.243Z"
   },
   {
    "duration": 0,
    "start_time": "2023-05-10T09:55:32.244Z"
   },
   {
    "duration": 1,
    "start_time": "2023-05-10T09:55:32.245Z"
   },
   {
    "duration": 0,
    "start_time": "2023-05-10T09:55:32.247Z"
   },
   {
    "duration": 0,
    "start_time": "2023-05-10T09:55:32.248Z"
   },
   {
    "duration": 0,
    "start_time": "2023-05-10T09:55:32.250Z"
   },
   {
    "duration": 0,
    "start_time": "2023-05-10T09:55:32.251Z"
   },
   {
    "duration": 0,
    "start_time": "2023-05-10T09:55:32.253Z"
   },
   {
    "duration": 0,
    "start_time": "2023-05-10T09:55:32.254Z"
   },
   {
    "duration": 0,
    "start_time": "2023-05-10T09:55:32.255Z"
   },
   {
    "duration": 0,
    "start_time": "2023-05-10T09:55:32.312Z"
   },
   {
    "duration": 0,
    "start_time": "2023-05-10T09:55:32.313Z"
   },
   {
    "duration": 1228,
    "start_time": "2023-05-10T09:56:03.298Z"
   },
   {
    "duration": 72,
    "start_time": "2023-05-10T09:56:04.529Z"
   },
   {
    "duration": 17,
    "start_time": "2023-05-10T09:56:04.604Z"
   },
   {
    "duration": 12,
    "start_time": "2023-05-10T09:56:04.623Z"
   },
   {
    "duration": 33,
    "start_time": "2023-05-10T09:56:04.637Z"
   },
   {
    "duration": 13,
    "start_time": "2023-05-10T09:56:04.672Z"
   },
   {
    "duration": 9,
    "start_time": "2023-05-10T09:56:04.688Z"
   },
   {
    "duration": 17,
    "start_time": "2023-05-10T09:56:04.700Z"
   },
   {
    "duration": 7,
    "start_time": "2023-05-10T09:56:04.719Z"
   },
   {
    "duration": 10,
    "start_time": "2023-05-10T09:56:04.728Z"
   },
   {
    "duration": 17,
    "start_time": "2023-05-10T09:56:04.740Z"
   },
   {
    "duration": 13,
    "start_time": "2023-05-10T09:56:04.759Z"
   },
   {
    "duration": 6,
    "start_time": "2023-05-10T09:56:04.774Z"
   },
   {
    "duration": 32,
    "start_time": "2023-05-10T09:56:04.783Z"
   },
   {
    "duration": 6,
    "start_time": "2023-05-10T09:56:04.817Z"
   },
   {
    "duration": 9,
    "start_time": "2023-05-10T09:56:04.825Z"
   },
   {
    "duration": 15,
    "start_time": "2023-05-10T09:56:04.836Z"
   },
   {
    "duration": 14,
    "start_time": "2023-05-10T09:56:04.852Z"
   },
   {
    "duration": 10,
    "start_time": "2023-05-10T09:56:04.867Z"
   },
   {
    "duration": 671,
    "start_time": "2023-05-10T09:56:04.878Z"
   },
   {
    "duration": 222,
    "start_time": "2023-05-10T09:56:05.551Z"
   },
   {
    "duration": 371,
    "start_time": "2023-05-10T09:56:05.775Z"
   },
   {
    "duration": 234,
    "start_time": "2023-05-10T09:56:06.148Z"
   },
   {
    "duration": 380,
    "start_time": "2023-05-10T09:56:06.384Z"
   },
   {
    "duration": 10,
    "start_time": "2023-05-10T09:56:06.766Z"
   },
   {
    "duration": 159,
    "start_time": "2023-05-10T09:56:06.778Z"
   },
   {
    "duration": 5,
    "start_time": "2023-05-10T09:56:06.939Z"
   },
   {
    "duration": 220,
    "start_time": "2023-05-10T09:56:06.946Z"
   },
   {
    "duration": 5,
    "start_time": "2023-05-10T09:56:07.168Z"
   },
   {
    "duration": 293,
    "start_time": "2023-05-10T09:56:07.175Z"
   },
   {
    "duration": 351,
    "start_time": "2023-05-10T09:56:07.470Z"
   },
   {
    "duration": 16,
    "start_time": "2023-05-10T09:56:07.823Z"
   },
   {
    "duration": 27,
    "start_time": "2023-05-10T09:56:07.841Z"
   },
   {
    "duration": 48,
    "start_time": "2023-05-10T09:56:07.871Z"
   },
   {
    "duration": 13,
    "start_time": "2023-05-10T09:56:07.921Z"
   },
   {
    "duration": 919,
    "start_time": "2023-05-10T09:58:35.914Z"
   },
   {
    "duration": 1155,
    "start_time": "2023-05-10T09:58:41.025Z"
   },
   {
    "duration": 67,
    "start_time": "2023-05-10T09:58:42.182Z"
   },
   {
    "duration": 12,
    "start_time": "2023-05-10T09:58:42.251Z"
   },
   {
    "duration": 19,
    "start_time": "2023-05-10T09:58:42.266Z"
   },
   {
    "duration": 16,
    "start_time": "2023-05-10T09:58:42.287Z"
   },
   {
    "duration": 13,
    "start_time": "2023-05-10T09:58:42.305Z"
   },
   {
    "duration": 6,
    "start_time": "2023-05-10T09:58:42.320Z"
   },
   {
    "duration": 10,
    "start_time": "2023-05-10T09:58:42.327Z"
   },
   {
    "duration": 6,
    "start_time": "2023-05-10T09:58:42.338Z"
   },
   {
    "duration": 6,
    "start_time": "2023-05-10T09:58:42.346Z"
   },
   {
    "duration": 10,
    "start_time": "2023-05-10T09:58:42.354Z"
   },
   {
    "duration": 12,
    "start_time": "2023-05-10T09:58:42.366Z"
   },
   {
    "duration": 5,
    "start_time": "2023-05-10T09:58:42.413Z"
   },
   {
    "duration": 8,
    "start_time": "2023-05-10T09:58:42.420Z"
   },
   {
    "duration": 5,
    "start_time": "2023-05-10T09:58:42.430Z"
   },
   {
    "duration": 9,
    "start_time": "2023-05-10T09:58:42.437Z"
   },
   {
    "duration": 21,
    "start_time": "2023-05-10T09:58:42.448Z"
   },
   {
    "duration": 41,
    "start_time": "2023-05-10T09:58:42.472Z"
   },
   {
    "duration": 13,
    "start_time": "2023-05-10T09:58:42.515Z"
   },
   {
    "duration": 640,
    "start_time": "2023-05-10T09:58:42.529Z"
   },
   {
    "duration": 234,
    "start_time": "2023-05-10T09:58:43.171Z"
   },
   {
    "duration": 339,
    "start_time": "2023-05-10T09:58:43.407Z"
   },
   {
    "duration": 270,
    "start_time": "2023-05-10T09:58:43.748Z"
   },
   {
    "duration": 361,
    "start_time": "2023-05-10T09:58:44.019Z"
   },
   {
    "duration": 10,
    "start_time": "2023-05-10T09:58:44.381Z"
   },
   {
    "duration": 148,
    "start_time": "2023-05-10T09:58:44.393Z"
   },
   {
    "duration": 4,
    "start_time": "2023-05-10T09:58:44.544Z"
   },
   {
    "duration": 193,
    "start_time": "2023-05-10T09:58:44.552Z"
   },
   {
    "duration": 4,
    "start_time": "2023-05-10T09:58:44.747Z"
   },
   {
    "duration": 250,
    "start_time": "2023-05-10T09:58:44.753Z"
   },
   {
    "duration": 359,
    "start_time": "2023-05-10T09:58:45.005Z"
   },
   {
    "duration": 12,
    "start_time": "2023-05-10T09:58:45.366Z"
   },
   {
    "duration": 9,
    "start_time": "2023-05-10T09:58:45.379Z"
   },
   {
    "duration": 35,
    "start_time": "2023-05-10T09:58:45.413Z"
   },
   {
    "duration": 17,
    "start_time": "2023-05-10T09:58:45.450Z"
   },
   {
    "duration": 70,
    "start_time": "2023-05-10T10:03:08.816Z"
   },
   {
    "duration": 74,
    "start_time": "2023-05-10T10:03:26.655Z"
   },
   {
    "duration": 46,
    "start_time": "2023-05-10T10:03:34.950Z"
   },
   {
    "duration": 43,
    "start_time": "2023-05-10T10:03:45.438Z"
   },
   {
    "duration": 55,
    "start_time": "2023-05-10T10:04:13.020Z"
   },
   {
    "duration": 86,
    "start_time": "2023-05-10T10:04:15.521Z"
   },
   {
    "duration": 63,
    "start_time": "2023-05-10T10:06:35.929Z"
   },
   {
    "duration": 75,
    "start_time": "2023-05-10T10:07:19.249Z"
   },
   {
    "duration": 1131,
    "start_time": "2023-05-10T10:07:34.153Z"
   },
   {
    "duration": 72,
    "start_time": "2023-05-10T10:07:35.286Z"
   },
   {
    "duration": 12,
    "start_time": "2023-05-10T10:07:35.360Z"
   },
   {
    "duration": 31,
    "start_time": "2023-05-10T10:07:35.374Z"
   },
   {
    "duration": 28,
    "start_time": "2023-05-10T10:07:35.407Z"
   },
   {
    "duration": 35,
    "start_time": "2023-05-10T10:07:35.436Z"
   },
   {
    "duration": 28,
    "start_time": "2023-05-10T10:07:35.472Z"
   },
   {
    "duration": 15,
    "start_time": "2023-05-10T10:07:35.502Z"
   },
   {
    "duration": 8,
    "start_time": "2023-05-10T10:07:35.521Z"
   },
   {
    "duration": 23,
    "start_time": "2023-05-10T10:07:35.531Z"
   },
   {
    "duration": 48,
    "start_time": "2023-05-10T10:07:35.556Z"
   },
   {
    "duration": 0,
    "start_time": "2023-05-10T10:07:35.606Z"
   },
   {
    "duration": 0,
    "start_time": "2023-05-10T10:07:35.608Z"
   },
   {
    "duration": 0,
    "start_time": "2023-05-10T10:07:35.609Z"
   },
   {
    "duration": 0,
    "start_time": "2023-05-10T10:07:35.610Z"
   },
   {
    "duration": 0,
    "start_time": "2023-05-10T10:07:35.613Z"
   },
   {
    "duration": 0,
    "start_time": "2023-05-10T10:07:35.614Z"
   },
   {
    "duration": 0,
    "start_time": "2023-05-10T10:07:35.615Z"
   },
   {
    "duration": 0,
    "start_time": "2023-05-10T10:07:35.616Z"
   },
   {
    "duration": 0,
    "start_time": "2023-05-10T10:07:35.617Z"
   },
   {
    "duration": 0,
    "start_time": "2023-05-10T10:07:35.618Z"
   },
   {
    "duration": 0,
    "start_time": "2023-05-10T10:07:35.619Z"
   },
   {
    "duration": 0,
    "start_time": "2023-05-10T10:07:35.620Z"
   },
   {
    "duration": 0,
    "start_time": "2023-05-10T10:07:35.620Z"
   },
   {
    "duration": 0,
    "start_time": "2023-05-10T10:07:35.621Z"
   },
   {
    "duration": 0,
    "start_time": "2023-05-10T10:07:35.623Z"
   },
   {
    "duration": 0,
    "start_time": "2023-05-10T10:07:35.625Z"
   },
   {
    "duration": 0,
    "start_time": "2023-05-10T10:07:35.632Z"
   },
   {
    "duration": 0,
    "start_time": "2023-05-10T10:07:35.633Z"
   },
   {
    "duration": 0,
    "start_time": "2023-05-10T10:07:35.634Z"
   },
   {
    "duration": 0,
    "start_time": "2023-05-10T10:07:35.634Z"
   },
   {
    "duration": 0,
    "start_time": "2023-05-10T10:07:35.635Z"
   },
   {
    "duration": 0,
    "start_time": "2023-05-10T10:07:35.636Z"
   },
   {
    "duration": 0,
    "start_time": "2023-05-10T10:07:35.637Z"
   },
   {
    "duration": 0,
    "start_time": "2023-05-10T10:07:35.639Z"
   },
   {
    "duration": 0,
    "start_time": "2023-05-10T10:07:35.640Z"
   },
   {
    "duration": 113,
    "start_time": "2023-05-10T10:07:58.618Z"
   },
   {
    "duration": 11,
    "start_time": "2023-05-10T10:08:27.327Z"
   },
   {
    "duration": 6,
    "start_time": "2023-05-10T10:08:34.800Z"
   },
   {
    "duration": 7,
    "start_time": "2023-05-10T10:09:22.543Z"
   },
   {
    "duration": 5,
    "start_time": "2023-05-10T10:09:29.444Z"
   },
   {
    "duration": 6,
    "start_time": "2023-05-10T10:09:32.024Z"
   },
   {
    "duration": 4,
    "start_time": "2023-05-10T10:09:43.703Z"
   },
   {
    "duration": 8,
    "start_time": "2023-05-10T10:11:41.296Z"
   },
   {
    "duration": 29,
    "start_time": "2023-05-10T10:13:42.633Z"
   },
   {
    "duration": 548,
    "start_time": "2023-05-10T10:14:18.460Z"
   },
   {
    "duration": 22,
    "start_time": "2023-05-10T10:14:34.448Z"
   },
   {
    "duration": 2639,
    "start_time": "2023-05-10T10:14:52.372Z"
   },
   {
    "duration": 49,
    "start_time": "2023-05-10T10:17:43.678Z"
   },
   {
    "duration": 53,
    "start_time": "2023-05-10T10:18:07.117Z"
   },
   {
    "duration": 148,
    "start_time": "2023-05-10T10:18:21.331Z"
   },
   {
    "duration": 300,
    "start_time": "2023-05-10T10:19:17.814Z"
   },
   {
    "duration": 6,
    "start_time": "2023-05-10T10:20:38.834Z"
   },
   {
    "duration": 198,
    "start_time": "2023-05-10T10:20:48.882Z"
   },
   {
    "duration": 130,
    "start_time": "2023-05-10T10:21:52.137Z"
   },
   {
    "duration": 1217,
    "start_time": "2023-05-10T10:21:58.256Z"
   },
   {
    "duration": 71,
    "start_time": "2023-05-10T10:21:59.476Z"
   },
   {
    "duration": 13,
    "start_time": "2023-05-10T10:21:59.549Z"
   },
   {
    "duration": 44,
    "start_time": "2023-05-10T10:21:59.564Z"
   },
   {
    "duration": 23,
    "start_time": "2023-05-10T10:21:59.609Z"
   },
   {
    "duration": 22,
    "start_time": "2023-05-10T10:21:59.635Z"
   },
   {
    "duration": 13,
    "start_time": "2023-05-10T10:21:59.659Z"
   },
   {
    "duration": 11,
    "start_time": "2023-05-10T10:21:59.674Z"
   },
   {
    "duration": 7,
    "start_time": "2023-05-10T10:21:59.687Z"
   },
   {
    "duration": 15,
    "start_time": "2023-05-10T10:21:59.697Z"
   },
   {
    "duration": 6,
    "start_time": "2023-05-10T10:21:59.725Z"
   },
   {
    "duration": 22,
    "start_time": "2023-05-10T10:21:59.733Z"
   },
   {
    "duration": 21,
    "start_time": "2023-05-10T10:21:59.757Z"
   },
   {
    "duration": 12,
    "start_time": "2023-05-10T10:21:59.780Z"
   },
   {
    "duration": 6,
    "start_time": "2023-05-10T10:21:59.794Z"
   },
   {
    "duration": 27,
    "start_time": "2023-05-10T10:21:59.802Z"
   },
   {
    "duration": 302,
    "start_time": "2023-05-10T10:21:59.831Z"
   },
   {
    "duration": 0,
    "start_time": "2023-05-10T10:22:00.136Z"
   },
   {
    "duration": 0,
    "start_time": "2023-05-10T10:22:00.137Z"
   },
   {
    "duration": 0,
    "start_time": "2023-05-10T10:22:00.138Z"
   },
   {
    "duration": 0,
    "start_time": "2023-05-10T10:22:00.140Z"
   },
   {
    "duration": 0,
    "start_time": "2023-05-10T10:22:00.141Z"
   },
   {
    "duration": 0,
    "start_time": "2023-05-10T10:22:00.142Z"
   },
   {
    "duration": 0,
    "start_time": "2023-05-10T10:22:00.144Z"
   },
   {
    "duration": 0,
    "start_time": "2023-05-10T10:22:00.145Z"
   },
   {
    "duration": 0,
    "start_time": "2023-05-10T10:22:00.146Z"
   },
   {
    "duration": 0,
    "start_time": "2023-05-10T10:22:00.147Z"
   },
   {
    "duration": 0,
    "start_time": "2023-05-10T10:22:00.149Z"
   },
   {
    "duration": 0,
    "start_time": "2023-05-10T10:22:00.150Z"
   },
   {
    "duration": 0,
    "start_time": "2023-05-10T10:22:00.151Z"
   },
   {
    "duration": 0,
    "start_time": "2023-05-10T10:22:00.152Z"
   },
   {
    "duration": 0,
    "start_time": "2023-05-10T10:22:00.154Z"
   },
   {
    "duration": 0,
    "start_time": "2023-05-10T10:22:00.155Z"
   },
   {
    "duration": 0,
    "start_time": "2023-05-10T10:22:00.156Z"
   },
   {
    "duration": 0,
    "start_time": "2023-05-10T10:22:00.158Z"
   },
   {
    "duration": 0,
    "start_time": "2023-05-10T10:22:00.159Z"
   },
   {
    "duration": 0,
    "start_time": "2023-05-10T10:22:00.160Z"
   },
   {
    "duration": 331,
    "start_time": "2023-05-10T10:26:37.888Z"
   },
   {
    "duration": 278,
    "start_time": "2023-05-10T10:27:11.653Z"
   },
   {
    "duration": 277,
    "start_time": "2023-05-10T10:27:31.200Z"
   },
   {
    "duration": 27,
    "start_time": "2023-05-10T10:29:01.798Z"
   },
   {
    "duration": 15,
    "start_time": "2023-05-10T10:29:12.279Z"
   },
   {
    "duration": 15,
    "start_time": "2023-05-10T10:30:06.034Z"
   },
   {
    "duration": 270,
    "start_time": "2023-05-10T10:30:21.092Z"
   },
   {
    "duration": 13,
    "start_time": "2023-05-10T10:30:43.344Z"
   },
   {
    "duration": 13,
    "start_time": "2023-05-10T10:30:54.034Z"
   },
   {
    "duration": 265,
    "start_time": "2023-05-10T10:31:04.846Z"
   },
   {
    "duration": 13,
    "start_time": "2023-05-10T10:32:02.401Z"
   },
   {
    "duration": 348,
    "start_time": "2023-05-10T10:32:47.176Z"
   },
   {
    "duration": 404,
    "start_time": "2023-05-10T10:33:08.901Z"
   },
   {
    "duration": 362,
    "start_time": "2023-05-10T10:33:47.731Z"
   },
   {
    "duration": 1087,
    "start_time": "2023-05-10T10:39:07.157Z"
   },
   {
    "duration": 68,
    "start_time": "2023-05-10T10:39:08.246Z"
   },
   {
    "duration": 12,
    "start_time": "2023-05-10T10:39:08.316Z"
   },
   {
    "duration": 12,
    "start_time": "2023-05-10T10:39:08.330Z"
   },
   {
    "duration": 14,
    "start_time": "2023-05-10T10:39:08.343Z"
   },
   {
    "duration": 28,
    "start_time": "2023-05-10T10:39:08.359Z"
   },
   {
    "duration": 6,
    "start_time": "2023-05-10T10:39:08.389Z"
   },
   {
    "duration": 18,
    "start_time": "2023-05-10T10:39:08.397Z"
   },
   {
    "duration": 8,
    "start_time": "2023-05-10T10:39:08.417Z"
   },
   {
    "duration": 7,
    "start_time": "2023-05-10T10:39:08.429Z"
   },
   {
    "duration": 13,
    "start_time": "2023-05-10T10:39:08.437Z"
   },
   {
    "duration": 9,
    "start_time": "2023-05-10T10:39:08.452Z"
   },
   {
    "duration": 15,
    "start_time": "2023-05-10T10:39:08.462Z"
   },
   {
    "duration": 5,
    "start_time": "2023-05-10T10:39:08.479Z"
   },
   {
    "duration": 30,
    "start_time": "2023-05-10T10:39:08.485Z"
   },
   {
    "duration": 5,
    "start_time": "2023-05-10T10:39:08.517Z"
   },
   {
    "duration": 452,
    "start_time": "2023-05-10T10:39:08.524Z"
   },
   {
    "duration": 5,
    "start_time": "2023-05-10T10:39:08.979Z"
   },
   {
    "duration": 16,
    "start_time": "2023-05-10T10:39:08.986Z"
   },
   {
    "duration": 18,
    "start_time": "2023-05-10T10:39:09.005Z"
   },
   {
    "duration": 14,
    "start_time": "2023-05-10T10:39:09.025Z"
   },
   {
    "duration": 651,
    "start_time": "2023-05-10T10:39:09.041Z"
   },
   {
    "duration": 223,
    "start_time": "2023-05-10T10:39:09.694Z"
   },
   {
    "duration": 375,
    "start_time": "2023-05-10T10:39:09.919Z"
   },
   {
    "duration": 225,
    "start_time": "2023-05-10T10:39:10.296Z"
   },
   {
    "duration": 353,
    "start_time": "2023-05-10T10:39:10.523Z"
   },
   {
    "duration": 9,
    "start_time": "2023-05-10T10:39:10.877Z"
   },
   {
    "duration": 149,
    "start_time": "2023-05-10T10:39:10.889Z"
   },
   {
    "duration": 5,
    "start_time": "2023-05-10T10:39:11.039Z"
   },
   {
    "duration": 183,
    "start_time": "2023-05-10T10:39:11.045Z"
   },
   {
    "duration": 5,
    "start_time": "2023-05-10T10:39:11.230Z"
   },
   {
    "duration": 345,
    "start_time": "2023-05-10T10:39:11.236Z"
   },
   {
    "duration": 291,
    "start_time": "2023-05-10T10:39:11.583Z"
   },
   {
    "duration": 11,
    "start_time": "2023-05-10T10:39:11.876Z"
   },
   {
    "duration": 23,
    "start_time": "2023-05-10T10:39:11.889Z"
   },
   {
    "duration": 30,
    "start_time": "2023-05-10T10:39:11.913Z"
   },
   {
    "duration": 16,
    "start_time": "2023-05-10T10:39:11.944Z"
   },
   {
    "duration": 158,
    "start_time": "2023-05-10T11:39:15.585Z"
   },
   {
    "duration": 128,
    "start_time": "2023-05-10T11:44:04.451Z"
   },
   {
    "duration": 17,
    "start_time": "2023-05-10T11:44:53.535Z"
   },
   {
    "duration": 8,
    "start_time": "2023-05-10T11:45:28.360Z"
   },
   {
    "duration": 10,
    "start_time": "2023-05-10T11:45:33.719Z"
   },
   {
    "duration": 1153,
    "start_time": "2023-05-10T11:45:41.354Z"
   },
   {
    "duration": 71,
    "start_time": "2023-05-10T11:45:42.512Z"
   },
   {
    "duration": 13,
    "start_time": "2023-05-10T11:45:42.586Z"
   },
   {
    "duration": 19,
    "start_time": "2023-05-10T11:45:42.601Z"
   },
   {
    "duration": 9,
    "start_time": "2023-05-10T11:45:42.628Z"
   },
   {
    "duration": 12,
    "start_time": "2023-05-10T11:45:42.639Z"
   },
   {
    "duration": 5,
    "start_time": "2023-05-10T11:45:42.653Z"
   },
   {
    "duration": 9,
    "start_time": "2023-05-10T11:45:42.659Z"
   },
   {
    "duration": 6,
    "start_time": "2023-05-10T11:45:42.670Z"
   },
   {
    "duration": 36,
    "start_time": "2023-05-10T11:45:42.679Z"
   },
   {
    "duration": 7,
    "start_time": "2023-05-10T11:45:42.717Z"
   },
   {
    "duration": 10,
    "start_time": "2023-05-10T11:45:42.730Z"
   },
   {
    "duration": 14,
    "start_time": "2023-05-10T11:45:42.743Z"
   },
   {
    "duration": 16,
    "start_time": "2023-05-10T11:45:42.759Z"
   },
   {
    "duration": 12,
    "start_time": "2023-05-10T11:45:42.777Z"
   },
   {
    "duration": 32,
    "start_time": "2023-05-10T11:45:42.791Z"
   },
   {
    "duration": 416,
    "start_time": "2023-05-10T11:45:42.832Z"
   },
   {
    "duration": 4,
    "start_time": "2023-05-10T11:45:43.250Z"
   },
   {
    "duration": 69,
    "start_time": "2023-05-10T11:45:43.256Z"
   },
   {
    "duration": 12,
    "start_time": "2023-05-10T11:45:43.328Z"
   },
   {
    "duration": 11,
    "start_time": "2023-05-10T11:45:43.342Z"
   },
   {
    "duration": 651,
    "start_time": "2023-05-10T11:45:43.355Z"
   },
   {
    "duration": 231,
    "start_time": "2023-05-10T11:45:44.011Z"
   },
   {
    "duration": 339,
    "start_time": "2023-05-10T11:45:44.245Z"
   },
   {
    "duration": 245,
    "start_time": "2023-05-10T11:45:44.586Z"
   },
   {
    "duration": 360,
    "start_time": "2023-05-10T11:45:44.833Z"
   },
   {
    "duration": 18,
    "start_time": "2023-05-10T11:45:45.195Z"
   },
   {
    "duration": 153,
    "start_time": "2023-05-10T11:45:45.216Z"
   },
   {
    "duration": 5,
    "start_time": "2023-05-10T11:45:45.371Z"
   },
   {
    "duration": 211,
    "start_time": "2023-05-10T11:45:45.377Z"
   },
   {
    "duration": 5,
    "start_time": "2023-05-10T11:45:45.590Z"
   },
   {
    "duration": 336,
    "start_time": "2023-05-10T11:45:45.597Z"
   },
   {
    "duration": 115,
    "start_time": "2023-05-10T11:45:45.935Z"
   },
   {
    "duration": 0,
    "start_time": "2023-05-10T11:45:46.052Z"
   },
   {
    "duration": 0,
    "start_time": "2023-05-10T11:45:46.053Z"
   },
   {
    "duration": 0,
    "start_time": "2023-05-10T11:45:46.054Z"
   },
   {
    "duration": 0,
    "start_time": "2023-05-10T11:45:46.055Z"
   },
   {
    "duration": 13,
    "start_time": "2023-05-10T11:45:57.987Z"
   },
   {
    "duration": 1180,
    "start_time": "2023-05-10T11:46:26.512Z"
   },
   {
    "duration": 72,
    "start_time": "2023-05-10T11:46:27.694Z"
   },
   {
    "duration": 12,
    "start_time": "2023-05-10T11:46:27.768Z"
   },
   {
    "duration": 23,
    "start_time": "2023-05-10T11:46:27.781Z"
   },
   {
    "duration": 24,
    "start_time": "2023-05-10T11:46:27.807Z"
   },
   {
    "duration": 26,
    "start_time": "2023-05-10T11:46:27.833Z"
   },
   {
    "duration": 5,
    "start_time": "2023-05-10T11:46:27.861Z"
   },
   {
    "duration": 12,
    "start_time": "2023-05-10T11:46:27.868Z"
   },
   {
    "duration": 6,
    "start_time": "2023-05-10T11:46:27.881Z"
   },
   {
    "duration": 12,
    "start_time": "2023-05-10T11:46:27.889Z"
   },
   {
    "duration": 6,
    "start_time": "2023-05-10T11:46:27.903Z"
   },
   {
    "duration": 20,
    "start_time": "2023-05-10T11:46:27.911Z"
   },
   {
    "duration": 16,
    "start_time": "2023-05-10T11:46:27.933Z"
   },
   {
    "duration": 4,
    "start_time": "2023-05-10T11:46:27.952Z"
   },
   {
    "duration": 7,
    "start_time": "2023-05-10T11:46:27.958Z"
   },
   {
    "duration": 17,
    "start_time": "2023-05-10T11:46:27.967Z"
   },
   {
    "duration": 442,
    "start_time": "2023-05-10T11:46:27.986Z"
   },
   {
    "duration": 4,
    "start_time": "2023-05-10T11:46:28.430Z"
   },
   {
    "duration": 16,
    "start_time": "2023-05-10T11:46:28.436Z"
   },
   {
    "duration": 16,
    "start_time": "2023-05-10T11:46:28.453Z"
   },
   {
    "duration": 30,
    "start_time": "2023-05-10T11:46:28.471Z"
   },
   {
    "duration": 747,
    "start_time": "2023-05-10T11:46:28.503Z"
   },
   {
    "duration": 250,
    "start_time": "2023-05-10T11:46:29.252Z"
   },
   {
    "duration": 349,
    "start_time": "2023-05-10T11:46:29.504Z"
   },
   {
    "duration": 226,
    "start_time": "2023-05-10T11:46:29.855Z"
   },
   {
    "duration": 390,
    "start_time": "2023-05-10T11:46:30.083Z"
   },
   {
    "duration": 11,
    "start_time": "2023-05-10T11:46:30.475Z"
   },
   {
    "duration": 188,
    "start_time": "2023-05-10T11:46:30.488Z"
   },
   {
    "duration": 5,
    "start_time": "2023-05-10T11:46:30.677Z"
   },
   {
    "duration": 250,
    "start_time": "2023-05-10T11:46:30.684Z"
   },
   {
    "duration": 6,
    "start_time": "2023-05-10T11:46:30.936Z"
   },
   {
    "duration": 352,
    "start_time": "2023-05-10T11:46:30.944Z"
   },
   {
    "duration": 132,
    "start_time": "2023-05-10T11:46:31.297Z"
   },
   {
    "duration": 0,
    "start_time": "2023-05-10T11:46:31.432Z"
   },
   {
    "duration": 0,
    "start_time": "2023-05-10T11:46:31.432Z"
   },
   {
    "duration": 0,
    "start_time": "2023-05-10T11:46:31.433Z"
   },
   {
    "duration": 0,
    "start_time": "2023-05-10T11:46:31.434Z"
   },
   {
    "duration": 236,
    "start_time": "2023-05-10T11:47:16.510Z"
   },
   {
    "duration": 1219,
    "start_time": "2023-05-10T11:47:28.093Z"
   },
   {
    "duration": 64,
    "start_time": "2023-05-10T11:47:29.315Z"
   },
   {
    "duration": 11,
    "start_time": "2023-05-10T11:47:29.380Z"
   },
   {
    "duration": 36,
    "start_time": "2023-05-10T11:47:29.393Z"
   },
   {
    "duration": 27,
    "start_time": "2023-05-10T11:47:29.431Z"
   },
   {
    "duration": 34,
    "start_time": "2023-05-10T11:47:29.459Z"
   },
   {
    "duration": 13,
    "start_time": "2023-05-10T11:47:29.495Z"
   },
   {
    "duration": 25,
    "start_time": "2023-05-10T11:47:29.510Z"
   },
   {
    "duration": 15,
    "start_time": "2023-05-10T11:47:29.537Z"
   },
   {
    "duration": 12,
    "start_time": "2023-05-10T11:47:29.555Z"
   },
   {
    "duration": 18,
    "start_time": "2023-05-10T11:47:29.569Z"
   },
   {
    "duration": 33,
    "start_time": "2023-05-10T11:47:29.589Z"
   },
   {
    "duration": 31,
    "start_time": "2023-05-10T11:47:29.624Z"
   },
   {
    "duration": 10,
    "start_time": "2023-05-10T11:47:29.657Z"
   },
   {
    "duration": 10,
    "start_time": "2023-05-10T11:47:29.669Z"
   },
   {
    "duration": 6,
    "start_time": "2023-05-10T11:47:29.681Z"
   },
   {
    "duration": 415,
    "start_time": "2023-05-10T11:47:29.689Z"
   },
   {
    "duration": 4,
    "start_time": "2023-05-10T11:47:30.106Z"
   },
   {
    "duration": 65,
    "start_time": "2023-05-10T11:47:30.112Z"
   },
   {
    "duration": 67,
    "start_time": "2023-05-10T11:47:30.179Z"
   },
   {
    "duration": 56,
    "start_time": "2023-05-10T11:47:30.248Z"
   },
   {
    "duration": 654,
    "start_time": "2023-05-10T11:47:30.306Z"
   },
   {
    "duration": 221,
    "start_time": "2023-05-10T11:47:30.962Z"
   },
   {
    "duration": 383,
    "start_time": "2023-05-10T11:47:31.185Z"
   },
   {
    "duration": 223,
    "start_time": "2023-05-10T11:47:31.570Z"
   },
   {
    "duration": 377,
    "start_time": "2023-05-10T11:47:31.796Z"
   },
   {
    "duration": 10,
    "start_time": "2023-05-10T11:47:32.175Z"
   },
   {
    "duration": 158,
    "start_time": "2023-05-10T11:47:32.188Z"
   },
   {
    "duration": 5,
    "start_time": "2023-05-10T11:47:32.348Z"
   },
   {
    "duration": 211,
    "start_time": "2023-05-10T11:47:32.355Z"
   },
   {
    "duration": 5,
    "start_time": "2023-05-10T11:47:32.568Z"
   },
   {
    "duration": 345,
    "start_time": "2023-05-10T11:47:32.574Z"
   },
   {
    "duration": 183,
    "start_time": "2023-05-10T11:47:32.921Z"
   },
   {
    "duration": 21,
    "start_time": "2023-05-10T11:47:33.106Z"
   },
   {
    "duration": 15,
    "start_time": "2023-05-10T11:47:33.130Z"
   },
   {
    "duration": 63,
    "start_time": "2023-05-10T11:47:33.147Z"
   },
   {
    "duration": 14,
    "start_time": "2023-05-10T11:47:33.212Z"
   },
   {
    "duration": 58,
    "start_time": "2023-05-11T15:09:26.279Z"
   },
   {
    "duration": 10,
    "start_time": "2023-05-11T15:09:33.332Z"
   },
   {
    "duration": 1400,
    "start_time": "2023-05-11T15:09:41.130Z"
   },
   {
    "duration": 172,
    "start_time": "2023-05-11T15:09:42.532Z"
   },
   {
    "duration": 12,
    "start_time": "2023-05-11T15:09:42.706Z"
   },
   {
    "duration": 13,
    "start_time": "2023-05-11T15:09:42.720Z"
   },
   {
    "duration": 18,
    "start_time": "2023-05-11T15:09:42.735Z"
   },
   {
    "duration": 18,
    "start_time": "2023-05-11T15:09:42.755Z"
   },
   {
    "duration": 4,
    "start_time": "2023-05-11T15:09:42.775Z"
   },
   {
    "duration": 8,
    "start_time": "2023-05-11T15:09:42.781Z"
   },
   {
    "duration": 6,
    "start_time": "2023-05-11T15:09:42.791Z"
   },
   {
    "duration": 7,
    "start_time": "2023-05-11T15:09:42.799Z"
   },
   {
    "duration": 7,
    "start_time": "2023-05-11T15:09:42.808Z"
   },
   {
    "duration": 21,
    "start_time": "2023-05-11T15:09:42.817Z"
   },
   {
    "duration": 15,
    "start_time": "2023-05-11T15:09:42.840Z"
   },
   {
    "duration": 7,
    "start_time": "2023-05-11T15:09:42.857Z"
   },
   {
    "duration": 14,
    "start_time": "2023-05-11T15:09:42.866Z"
   },
   {
    "duration": 11,
    "start_time": "2023-05-11T15:09:42.882Z"
   },
   {
    "duration": 434,
    "start_time": "2023-05-11T15:09:42.895Z"
   },
   {
    "duration": 6,
    "start_time": "2023-05-11T15:09:43.331Z"
   },
   {
    "duration": 17,
    "start_time": "2023-05-11T15:09:43.339Z"
   },
   {
    "duration": 12,
    "start_time": "2023-05-11T15:09:43.358Z"
   },
   {
    "duration": 15,
    "start_time": "2023-05-11T15:09:43.372Z"
   },
   {
    "duration": 602,
    "start_time": "2023-05-11T15:09:43.388Z"
   },
   {
    "duration": 226,
    "start_time": "2023-05-11T15:09:43.992Z"
   },
   {
    "duration": 390,
    "start_time": "2023-05-11T15:09:44.220Z"
   },
   {
    "duration": 219,
    "start_time": "2023-05-11T15:09:44.613Z"
   },
   {
    "duration": 370,
    "start_time": "2023-05-11T15:09:44.837Z"
   },
   {
    "duration": 11,
    "start_time": "2023-05-11T15:09:45.209Z"
   },
   {
    "duration": 173,
    "start_time": "2023-05-11T15:09:45.222Z"
   },
   {
    "duration": 5,
    "start_time": "2023-05-11T15:09:45.396Z"
   },
   {
    "duration": 188,
    "start_time": "2023-05-11T15:09:45.402Z"
   },
   {
    "duration": 5,
    "start_time": "2023-05-11T15:09:45.592Z"
   },
   {
    "duration": 323,
    "start_time": "2023-05-11T15:09:45.599Z"
   },
   {
    "duration": 200,
    "start_time": "2023-05-11T15:09:45.924Z"
   },
   {
    "duration": 19,
    "start_time": "2023-05-11T15:09:46.126Z"
   },
   {
    "duration": 8,
    "start_time": "2023-05-11T15:09:46.147Z"
   },
   {
    "duration": 26,
    "start_time": "2023-05-11T15:09:46.157Z"
   },
   {
    "duration": 14,
    "start_time": "2023-05-11T15:09:46.185Z"
   },
   {
    "duration": 13,
    "start_time": "2023-05-11T15:10:08.495Z"
   },
   {
    "duration": 48,
    "start_time": "2023-05-25T12:13:08.009Z"
   }
  ],
  "kernelspec": {
   "display_name": "Python 3 (ipykernel)",
   "language": "python",
   "name": "python3"
  },
  "language_info": {
   "codemirror_mode": {
    "name": "ipython",
    "version": 3
   },
   "file_extension": ".py",
   "mimetype": "text/x-python",
   "name": "python",
   "nbconvert_exporter": "python",
   "pygments_lexer": "ipython3",
   "version": "3.9.5"
  },
  "toc": {
   "base_numbering": 1,
   "nav_menu": {
    "height": "206px",
    "width": "160px"
   },
   "number_sections": true,
   "sideBar": true,
   "skip_h1_title": true,
   "title_cell": "Table of Contents",
   "title_sidebar": "Contents",
   "toc_cell": false,
   "toc_position": {},
   "toc_section_display": true,
   "toc_window_display": false
  }
 },
 "nbformat": 4,
 "nbformat_minor": 2
}
